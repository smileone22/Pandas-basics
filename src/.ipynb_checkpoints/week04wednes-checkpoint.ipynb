{
 "cells": [
  {
   "cell_type": "markdown",
   "id": "changing-express",
   "metadata": {},
   "source": [
    "## Pandas Indexing "
   ]
  },
  {
   "cell_type": "code",
   "execution_count": 1,
   "id": "developmental-picking",
   "metadata": {},
   "outputs": [],
   "source": [
    "import pandas as pd\n",
    "import numpy as np"
   ]
  },
  {
   "cell_type": "code",
   "execution_count": 2,
   "id": "radio-theater",
   "metadata": {},
   "outputs": [],
   "source": [
    "df = pd.DataFrame(np.arange(4,20).reshape(4,4),columns=list('abcd'))"
   ]
  },
  {
   "cell_type": "code",
   "execution_count": 3,
   "id": "dried-administrator",
   "metadata": {},
   "outputs": [
    {
     "data": {
      "text/html": [
       "<div>\n",
       "<style scoped>\n",
       "    .dataframe tbody tr th:only-of-type {\n",
       "        vertical-align: middle;\n",
       "    }\n",
       "\n",
       "    .dataframe tbody tr th {\n",
       "        vertical-align: top;\n",
       "    }\n",
       "\n",
       "    .dataframe thead th {\n",
       "        text-align: right;\n",
       "    }\n",
       "</style>\n",
       "<table border=\"1\" class=\"dataframe\">\n",
       "  <thead>\n",
       "    <tr style=\"text-align: right;\">\n",
       "      <th></th>\n",
       "      <th>a</th>\n",
       "      <th>b</th>\n",
       "      <th>c</th>\n",
       "      <th>d</th>\n",
       "    </tr>\n",
       "  </thead>\n",
       "  <tbody>\n",
       "    <tr>\n",
       "      <th>0</th>\n",
       "      <td>4</td>\n",
       "      <td>5</td>\n",
       "      <td>6</td>\n",
       "      <td>7</td>\n",
       "    </tr>\n",
       "    <tr>\n",
       "      <th>1</th>\n",
       "      <td>8</td>\n",
       "      <td>9</td>\n",
       "      <td>10</td>\n",
       "      <td>11</td>\n",
       "    </tr>\n",
       "    <tr>\n",
       "      <th>2</th>\n",
       "      <td>12</td>\n",
       "      <td>13</td>\n",
       "      <td>14</td>\n",
       "      <td>15</td>\n",
       "    </tr>\n",
       "    <tr>\n",
       "      <th>3</th>\n",
       "      <td>16</td>\n",
       "      <td>17</td>\n",
       "      <td>18</td>\n",
       "      <td>19</td>\n",
       "    </tr>\n",
       "  </tbody>\n",
       "</table>\n",
       "</div>"
      ],
      "text/plain": [
       "    a   b   c   d\n",
       "0   4   5   6   7\n",
       "1   8   9  10  11\n",
       "2  12  13  14  15\n",
       "3  16  17  18  19"
      ]
     },
     "execution_count": 3,
     "metadata": {},
     "output_type": "execute_result"
    }
   ],
   "source": [
    "df"
   ]
  },
  {
   "cell_type": "code",
   "execution_count": 4,
   "id": "excited-artist",
   "metadata": {},
   "outputs": [
    {
     "data": {
      "text/plain": [
       "0     4\n",
       "1     8\n",
       "2    12\n",
       "3    16\n",
       "Name: a, dtype: int64"
      ]
     },
     "execution_count": 4,
     "metadata": {},
     "output_type": "execute_result"
    }
   ],
   "source": [
    "df['a']"
   ]
  },
  {
   "cell_type": "code",
   "execution_count": 5,
   "id": "spectacular-commonwealth",
   "metadata": {},
   "outputs": [
    {
     "data": {
      "text/html": [
       "<div>\n",
       "<style scoped>\n",
       "    .dataframe tbody tr th:only-of-type {\n",
       "        vertical-align: middle;\n",
       "    }\n",
       "\n",
       "    .dataframe tbody tr th {\n",
       "        vertical-align: top;\n",
       "    }\n",
       "\n",
       "    .dataframe thead th {\n",
       "        text-align: right;\n",
       "    }\n",
       "</style>\n",
       "<table border=\"1\" class=\"dataframe\">\n",
       "  <thead>\n",
       "    <tr style=\"text-align: right;\">\n",
       "      <th></th>\n",
       "      <th>a</th>\n",
       "      <th>b</th>\n",
       "      <th>c</th>\n",
       "      <th>d</th>\n",
       "    </tr>\n",
       "  </thead>\n",
       "  <tbody>\n",
       "    <tr>\n",
       "      <th>0</th>\n",
       "      <td>4</td>\n",
       "      <td>5</td>\n",
       "      <td>6</td>\n",
       "      <td>7</td>\n",
       "    </tr>\n",
       "    <tr>\n",
       "      <th>1</th>\n",
       "      <td>8</td>\n",
       "      <td>9</td>\n",
       "      <td>10</td>\n",
       "      <td>11</td>\n",
       "    </tr>\n",
       "    <tr>\n",
       "      <th>2</th>\n",
       "      <td>12</td>\n",
       "      <td>13</td>\n",
       "      <td>14</td>\n",
       "      <td>15</td>\n",
       "    </tr>\n",
       "  </tbody>\n",
       "</table>\n",
       "</div>"
      ],
      "text/plain": [
       "    a   b   c   d\n",
       "0   4   5   6   7\n",
       "1   8   9  10  11\n",
       "2  12  13  14  15"
      ]
     },
     "execution_count": 5,
     "metadata": {},
     "output_type": "execute_result"
    }
   ],
   "source": [
    "df[:3]"
   ]
  },
  {
   "cell_type": "code",
   "execution_count": 6,
   "id": "sought-actress",
   "metadata": {},
   "outputs": [
    {
     "data": {
      "text/html": [
       "<div>\n",
       "<style scoped>\n",
       "    .dataframe tbody tr th:only-of-type {\n",
       "        vertical-align: middle;\n",
       "    }\n",
       "\n",
       "    .dataframe tbody tr th {\n",
       "        vertical-align: top;\n",
       "    }\n",
       "\n",
       "    .dataframe thead th {\n",
       "        text-align: right;\n",
       "    }\n",
       "</style>\n",
       "<table border=\"1\" class=\"dataframe\">\n",
       "  <thead>\n",
       "    <tr style=\"text-align: right;\">\n",
       "      <th></th>\n",
       "      <th>a</th>\n",
       "      <th>b</th>\n",
       "      <th>c</th>\n",
       "    </tr>\n",
       "  </thead>\n",
       "  <tbody>\n",
       "    <tr>\n",
       "      <th>0</th>\n",
       "      <td>4</td>\n",
       "      <td>5</td>\n",
       "      <td>6</td>\n",
       "    </tr>\n",
       "    <tr>\n",
       "      <th>1</th>\n",
       "      <td>8</td>\n",
       "      <td>9</td>\n",
       "      <td>10</td>\n",
       "    </tr>\n",
       "    <tr>\n",
       "      <th>2</th>\n",
       "      <td>12</td>\n",
       "      <td>13</td>\n",
       "      <td>14</td>\n",
       "    </tr>\n",
       "    <tr>\n",
       "      <th>3</th>\n",
       "      <td>16</td>\n",
       "      <td>17</td>\n",
       "      <td>18</td>\n",
       "    </tr>\n",
       "  </tbody>\n",
       "</table>\n",
       "</div>"
      ],
      "text/plain": [
       "    a   b   c\n",
       "0   4   5   6\n",
       "1   8   9  10\n",
       "2  12  13  14\n",
       "3  16  17  18"
      ]
     },
     "execution_count": 6,
     "metadata": {},
     "output_type": "execute_result"
    }
   ],
   "source": [
    "df[['a','b','c']]"
   ]
  },
  {
   "cell_type": "code",
   "execution_count": 9,
   "id": "third-laugh",
   "metadata": {},
   "outputs": [
    {
     "data": {
      "text/plain": [
       "a     8\n",
       "b     9\n",
       "c    10\n",
       "d    11\n",
       "Name: 1, dtype: int64"
      ]
     },
     "execution_count": 9,
     "metadata": {},
     "output_type": "execute_result"
    }
   ],
   "source": [
    "df.loc[1] #numpy indexing - row"
   ]
  },
  {
   "cell_type": "code",
   "execution_count": 11,
   "id": "alleged-boring",
   "metadata": {},
   "outputs": [
    {
     "data": {
      "text/html": [
       "<div>\n",
       "<style scoped>\n",
       "    .dataframe tbody tr th:only-of-type {\n",
       "        vertical-align: middle;\n",
       "    }\n",
       "\n",
       "    .dataframe tbody tr th {\n",
       "        vertical-align: top;\n",
       "    }\n",
       "\n",
       "    .dataframe thead th {\n",
       "        text-align: right;\n",
       "    }\n",
       "</style>\n",
       "<table border=\"1\" class=\"dataframe\">\n",
       "  <thead>\n",
       "    <tr style=\"text-align: right;\">\n",
       "      <th></th>\n",
       "      <th>a</th>\n",
       "      <th>b</th>\n",
       "      <th>c</th>\n",
       "      <th>d</th>\n",
       "    </tr>\n",
       "  </thead>\n",
       "  <tbody>\n",
       "    <tr>\n",
       "      <th>0</th>\n",
       "      <td>4</td>\n",
       "      <td>5</td>\n",
       "      <td>6</td>\n",
       "      <td>7</td>\n",
       "    </tr>\n",
       "    <tr>\n",
       "      <th>1</th>\n",
       "      <td>8</td>\n",
       "      <td>9</td>\n",
       "      <td>10</td>\n",
       "      <td>11</td>\n",
       "    </tr>\n",
       "  </tbody>\n",
       "</table>\n",
       "</div>"
      ],
      "text/plain": [
       "   a  b   c   d\n",
       "0  4  5   6   7\n",
       "1  8  9  10  11"
      ]
     },
     "execution_count": 11,
     "metadata": {},
     "output_type": "execute_result"
    }
   ],
   "source": [
    "df.loc[:1]"
   ]
  },
  {
   "cell_type": "code",
   "execution_count": 12,
   "id": "popular-spank",
   "metadata": {},
   "outputs": [
    {
     "data": {
      "text/html": [
       "<div>\n",
       "<style scoped>\n",
       "    .dataframe tbody tr th:only-of-type {\n",
       "        vertical-align: middle;\n",
       "    }\n",
       "\n",
       "    .dataframe tbody tr th {\n",
       "        vertical-align: top;\n",
       "    }\n",
       "\n",
       "    .dataframe thead th {\n",
       "        text-align: right;\n",
       "    }\n",
       "</style>\n",
       "<table border=\"1\" class=\"dataframe\">\n",
       "  <thead>\n",
       "    <tr style=\"text-align: right;\">\n",
       "      <th></th>\n",
       "      <th>c</th>\n",
       "      <th>d</th>\n",
       "    </tr>\n",
       "  </thead>\n",
       "  <tbody>\n",
       "    <tr>\n",
       "      <th>0</th>\n",
       "      <td>6</td>\n",
       "      <td>7</td>\n",
       "    </tr>\n",
       "    <tr>\n",
       "      <th>1</th>\n",
       "      <td>10</td>\n",
       "      <td>11</td>\n",
       "    </tr>\n",
       "  </tbody>\n",
       "</table>\n",
       "</div>"
      ],
      "text/plain": [
       "    c   d\n",
       "0   6   7\n",
       "1  10  11"
      ]
     },
     "execution_count": 12,
     "metadata": {},
     "output_type": "execute_result"
    }
   ],
   "source": [
    "df.loc[:1,'c':'d']"
   ]
  },
  {
   "cell_type": "code",
   "execution_count": 13,
   "id": "historic-pound",
   "metadata": {},
   "outputs": [
    {
     "data": {
      "text/html": [
       "<div>\n",
       "<style scoped>\n",
       "    .dataframe tbody tr th:only-of-type {\n",
       "        vertical-align: middle;\n",
       "    }\n",
       "\n",
       "    .dataframe tbody tr th {\n",
       "        vertical-align: top;\n",
       "    }\n",
       "\n",
       "    .dataframe thead th {\n",
       "        text-align: right;\n",
       "    }\n",
       "</style>\n",
       "<table border=\"1\" class=\"dataframe\">\n",
       "  <thead>\n",
       "    <tr style=\"text-align: right;\">\n",
       "      <th></th>\n",
       "      <th>a</th>\n",
       "      <th>b</th>\n",
       "      <th>c</th>\n",
       "      <th>d</th>\n",
       "    </tr>\n",
       "  </thead>\n",
       "  <tbody>\n",
       "    <tr>\n",
       "      <th>0</th>\n",
       "      <td>4</td>\n",
       "      <td>5</td>\n",
       "      <td>6</td>\n",
       "      <td>7</td>\n",
       "    </tr>\n",
       "    <tr>\n",
       "      <th>1</th>\n",
       "      <td>8</td>\n",
       "      <td>9</td>\n",
       "      <td>10</td>\n",
       "      <td>11</td>\n",
       "    </tr>\n",
       "    <tr>\n",
       "      <th>2</th>\n",
       "      <td>12</td>\n",
       "      <td>13</td>\n",
       "      <td>14</td>\n",
       "      <td>15</td>\n",
       "    </tr>\n",
       "    <tr>\n",
       "      <th>3</th>\n",
       "      <td>16</td>\n",
       "      <td>17</td>\n",
       "      <td>18</td>\n",
       "      <td>19</td>\n",
       "    </tr>\n",
       "  </tbody>\n",
       "</table>\n",
       "</div>"
      ],
      "text/plain": [
       "    a   b   c   d\n",
       "0   4   5   6   7\n",
       "1   8   9  10  11\n",
       "2  12  13  14  15\n",
       "3  16  17  18  19"
      ]
     },
     "execution_count": 13,
     "metadata": {},
     "output_type": "execute_result"
    }
   ],
   "source": [
    "df"
   ]
  },
  {
   "cell_type": "code",
   "execution_count": 17,
   "id": "controlling-sustainability",
   "metadata": {},
   "outputs": [
    {
     "data": {
      "text/html": [
       "<div>\n",
       "<style scoped>\n",
       "    .dataframe tbody tr th:only-of-type {\n",
       "        vertical-align: middle;\n",
       "    }\n",
       "\n",
       "    .dataframe tbody tr th {\n",
       "        vertical-align: top;\n",
       "    }\n",
       "\n",
       "    .dataframe thead th {\n",
       "        text-align: right;\n",
       "    }\n",
       "</style>\n",
       "<table border=\"1\" class=\"dataframe\">\n",
       "  <thead>\n",
       "    <tr style=\"text-align: right;\">\n",
       "      <th></th>\n",
       "      <th>a</th>\n",
       "      <th>b</th>\n",
       "    </tr>\n",
       "  </thead>\n",
       "  <tbody>\n",
       "    <tr>\n",
       "      <th>0</th>\n",
       "      <td>4</td>\n",
       "      <td>5</td>\n",
       "    </tr>\n",
       "  </tbody>\n",
       "</table>\n",
       "</div>"
      ],
      "text/plain": [
       "   a  b\n",
       "0  4  5"
      ]
     },
     "execution_count": 17,
     "metadata": {},
     "output_type": "execute_result"
    }
   ],
   "source": [
    "df.iloc[:1,:2] #by position,exclusive at the end "
   ]
  },
  {
   "cell_type": "markdown",
   "id": "guilty-yesterday",
   "metadata": {},
   "source": [
    "## Removing a column"
   ]
  },
  {
   "cell_type": "code",
   "execution_count": 21,
   "id": "geological-heating",
   "metadata": {},
   "outputs": [
    {
     "data": {
      "text/html": [
       "<div>\n",
       "<style scoped>\n",
       "    .dataframe tbody tr th:only-of-type {\n",
       "        vertical-align: middle;\n",
       "    }\n",
       "\n",
       "    .dataframe tbody tr th {\n",
       "        vertical-align: top;\n",
       "    }\n",
       "\n",
       "    .dataframe thead th {\n",
       "        text-align: right;\n",
       "    }\n",
       "</style>\n",
       "<table border=\"1\" class=\"dataframe\">\n",
       "  <thead>\n",
       "    <tr style=\"text-align: right;\">\n",
       "      <th></th>\n",
       "      <th>a</th>\n",
       "      <th>b</th>\n",
       "      <th>c</th>\n",
       "      <th>d</th>\n",
       "    </tr>\n",
       "  </thead>\n",
       "  <tbody>\n",
       "    <tr>\n",
       "      <th>1</th>\n",
       "      <td>8</td>\n",
       "      <td>9</td>\n",
       "      <td>10</td>\n",
       "      <td>11</td>\n",
       "    </tr>\n",
       "    <tr>\n",
       "      <th>2</th>\n",
       "      <td>12</td>\n",
       "      <td>13</td>\n",
       "      <td>14</td>\n",
       "      <td>15</td>\n",
       "    </tr>\n",
       "    <tr>\n",
       "      <th>3</th>\n",
       "      <td>16</td>\n",
       "      <td>17</td>\n",
       "      <td>18</td>\n",
       "      <td>19</td>\n",
       "    </tr>\n",
       "  </tbody>\n",
       "</table>\n",
       "</div>"
      ],
      "text/plain": [
       "    a   b   c   d\n",
       "1   8   9  10  11\n",
       "2  12  13  14  15\n",
       "3  16  17  18  19"
      ]
     },
     "execution_count": 21,
     "metadata": {},
     "output_type": "execute_result"
    }
   ],
   "source": [
    "# wrong > df.drop('d')\n",
    "df.drop(0)"
   ]
  },
  {
   "cell_type": "code",
   "execution_count": 23,
   "id": "framed-johnson",
   "metadata": {},
   "outputs": [
    {
     "data": {
      "text/html": [
       "<div>\n",
       "<style scoped>\n",
       "    .dataframe tbody tr th:only-of-type {\n",
       "        vertical-align: middle;\n",
       "    }\n",
       "\n",
       "    .dataframe tbody tr th {\n",
       "        vertical-align: top;\n",
       "    }\n",
       "\n",
       "    .dataframe thead th {\n",
       "        text-align: right;\n",
       "    }\n",
       "</style>\n",
       "<table border=\"1\" class=\"dataframe\">\n",
       "  <thead>\n",
       "    <tr style=\"text-align: right;\">\n",
       "      <th></th>\n",
       "      <th>a</th>\n",
       "      <th>b</th>\n",
       "      <th>c</th>\n",
       "    </tr>\n",
       "  </thead>\n",
       "  <tbody>\n",
       "    <tr>\n",
       "      <th>0</th>\n",
       "      <td>4</td>\n",
       "      <td>5</td>\n",
       "      <td>6</td>\n",
       "    </tr>\n",
       "    <tr>\n",
       "      <th>1</th>\n",
       "      <td>8</td>\n",
       "      <td>9</td>\n",
       "      <td>10</td>\n",
       "    </tr>\n",
       "    <tr>\n",
       "      <th>2</th>\n",
       "      <td>12</td>\n",
       "      <td>13</td>\n",
       "      <td>14</td>\n",
       "    </tr>\n",
       "    <tr>\n",
       "      <th>3</th>\n",
       "      <td>16</td>\n",
       "      <td>17</td>\n",
       "      <td>18</td>\n",
       "    </tr>\n",
       "  </tbody>\n",
       "</table>\n",
       "</div>"
      ],
      "text/plain": [
       "    a   b   c\n",
       "0   4   5   6\n",
       "1   8   9  10\n",
       "2  12  13  14\n",
       "3  16  17  18"
      ]
     },
     "execution_count": 23,
     "metadata": {},
     "output_type": "execute_result"
    }
   ],
   "source": [
    "df.drop('d',axis=1) #column drop"
   ]
  },
  {
   "cell_type": "code",
   "execution_count": 24,
   "id": "hybrid-venice",
   "metadata": {},
   "outputs": [],
   "source": [
    "df.drop('a',axis=1, inplace=True) #destructive\n",
    "# AXIS 0 ROW, AXIS 1 COL"
   ]
  },
  {
   "cell_type": "code",
   "execution_count": 25,
   "id": "confirmed-steering",
   "metadata": {},
   "outputs": [
    {
     "data": {
      "text/html": [
       "<div>\n",
       "<style scoped>\n",
       "    .dataframe tbody tr th:only-of-type {\n",
       "        vertical-align: middle;\n",
       "    }\n",
       "\n",
       "    .dataframe tbody tr th {\n",
       "        vertical-align: top;\n",
       "    }\n",
       "\n",
       "    .dataframe thead th {\n",
       "        text-align: right;\n",
       "    }\n",
       "</style>\n",
       "<table border=\"1\" class=\"dataframe\">\n",
       "  <thead>\n",
       "    <tr style=\"text-align: right;\">\n",
       "      <th></th>\n",
       "      <th>b</th>\n",
       "      <th>c</th>\n",
       "      <th>d</th>\n",
       "    </tr>\n",
       "  </thead>\n",
       "  <tbody>\n",
       "    <tr>\n",
       "      <th>0</th>\n",
       "      <td>5</td>\n",
       "      <td>6</td>\n",
       "      <td>7</td>\n",
       "    </tr>\n",
       "    <tr>\n",
       "      <th>1</th>\n",
       "      <td>9</td>\n",
       "      <td>10</td>\n",
       "      <td>11</td>\n",
       "    </tr>\n",
       "    <tr>\n",
       "      <th>2</th>\n",
       "      <td>13</td>\n",
       "      <td>14</td>\n",
       "      <td>15</td>\n",
       "    </tr>\n",
       "    <tr>\n",
       "      <th>3</th>\n",
       "      <td>17</td>\n",
       "      <td>18</td>\n",
       "      <td>19</td>\n",
       "    </tr>\n",
       "  </tbody>\n",
       "</table>\n",
       "</div>"
      ],
      "text/plain": [
       "    b   c   d\n",
       "0   5   6   7\n",
       "1   9  10  11\n",
       "2  13  14  15\n",
       "3  17  18  19"
      ]
     },
     "execution_count": 25,
     "metadata": {},
     "output_type": "execute_result"
    }
   ],
   "source": [
    "df"
   ]
  },
  {
   "cell_type": "code",
   "execution_count": 27,
   "id": "vanilla-seating",
   "metadata": {},
   "outputs": [
    {
     "data": {
      "text/plain": [
       "(4, 3)"
      ]
     },
     "execution_count": 27,
     "metadata": {},
     "output_type": "execute_result"
    }
   ],
   "source": [
    "df.shape"
   ]
  },
  {
   "cell_type": "code",
   "execution_count": 28,
   "id": "palestinian-milton",
   "metadata": {},
   "outputs": [],
   "source": [
    "del df['b']"
   ]
  },
  {
   "cell_type": "code",
   "execution_count": 29,
   "id": "special-engineering",
   "metadata": {},
   "outputs": [
    {
     "data": {
      "text/html": [
       "<div>\n",
       "<style scoped>\n",
       "    .dataframe tbody tr th:only-of-type {\n",
       "        vertical-align: middle;\n",
       "    }\n",
       "\n",
       "    .dataframe tbody tr th {\n",
       "        vertical-align: top;\n",
       "    }\n",
       "\n",
       "    .dataframe thead th {\n",
       "        text-align: right;\n",
       "    }\n",
       "</style>\n",
       "<table border=\"1\" class=\"dataframe\">\n",
       "  <thead>\n",
       "    <tr style=\"text-align: right;\">\n",
       "      <th></th>\n",
       "      <th>c</th>\n",
       "      <th>d</th>\n",
       "    </tr>\n",
       "  </thead>\n",
       "  <tbody>\n",
       "    <tr>\n",
       "      <th>0</th>\n",
       "      <td>6</td>\n",
       "      <td>7</td>\n",
       "    </tr>\n",
       "    <tr>\n",
       "      <th>1</th>\n",
       "      <td>10</td>\n",
       "      <td>11</td>\n",
       "    </tr>\n",
       "    <tr>\n",
       "      <th>2</th>\n",
       "      <td>14</td>\n",
       "      <td>15</td>\n",
       "    </tr>\n",
       "    <tr>\n",
       "      <th>3</th>\n",
       "      <td>18</td>\n",
       "      <td>19</td>\n",
       "    </tr>\n",
       "  </tbody>\n",
       "</table>\n",
       "</div>"
      ],
      "text/plain": [
       "    c   d\n",
       "0   6   7\n",
       "1  10  11\n",
       "2  14  15\n",
       "3  18  19"
      ]
     },
     "execution_count": 29,
     "metadata": {},
     "output_type": "execute_result"
    }
   ],
   "source": [
    "df"
   ]
  },
  {
   "cell_type": "code",
   "execution_count": 2,
   "id": "correct-liabilities",
   "metadata": {},
   "outputs": [],
   "source": [
    "import pandas as pd\n",
    "data= pd.read_csv('DOHMH_Dog_Bite_Data.csv')"
   ]
  },
  {
   "cell_type": "code",
   "execution_count": 9,
   "id": "abstract-narrow",
   "metadata": {},
   "outputs": [
    {
     "data": {
      "text/html": [
       "<div>\n",
       "<style scoped>\n",
       "    .dataframe tbody tr th:only-of-type {\n",
       "        vertical-align: middle;\n",
       "    }\n",
       "\n",
       "    .dataframe tbody tr th {\n",
       "        vertical-align: top;\n",
       "    }\n",
       "\n",
       "    .dataframe thead th {\n",
       "        text-align: right;\n",
       "    }\n",
       "</style>\n",
       "<table border=\"1\" class=\"dataframe\">\n",
       "  <thead>\n",
       "    <tr style=\"text-align: right;\">\n",
       "      <th></th>\n",
       "      <th>UniqueID</th>\n",
       "      <th>DateOfBite</th>\n",
       "      <th>Species</th>\n",
       "      <th>Breed</th>\n",
       "      <th>Age</th>\n",
       "      <th>Gender</th>\n",
       "      <th>SpayNeuter</th>\n",
       "      <th>Borough</th>\n",
       "      <th>ZipCode</th>\n",
       "    </tr>\n",
       "  </thead>\n",
       "  <tbody>\n",
       "    <tr>\n",
       "      <th>0</th>\n",
       "      <td>1</td>\n",
       "      <td>January 02 2015</td>\n",
       "      <td>DOG</td>\n",
       "      <td>Poodle, Standard</td>\n",
       "      <td>3</td>\n",
       "      <td>M</td>\n",
       "      <td>True</td>\n",
       "      <td>Brooklyn</td>\n",
       "      <td>11238</td>\n",
       "    </tr>\n",
       "    <tr>\n",
       "      <th>1</th>\n",
       "      <td>2</td>\n",
       "      <td>January 02 2015</td>\n",
       "      <td>DOG</td>\n",
       "      <td>HUSKY</td>\n",
       "      <td>NaN</td>\n",
       "      <td>U</td>\n",
       "      <td>False</td>\n",
       "      <td>Brooklyn</td>\n",
       "      <td>11249</td>\n",
       "    </tr>\n",
       "    <tr>\n",
       "      <th>2</th>\n",
       "      <td>3</td>\n",
       "      <td>January 02 2015</td>\n",
       "      <td>DOG</td>\n",
       "      <td>NaN</td>\n",
       "      <td>NaN</td>\n",
       "      <td>U</td>\n",
       "      <td>False</td>\n",
       "      <td>Brooklyn</td>\n",
       "      <td>NaN</td>\n",
       "    </tr>\n",
       "    <tr>\n",
       "      <th>3</th>\n",
       "      <td>4</td>\n",
       "      <td>January 01 2015</td>\n",
       "      <td>DOG</td>\n",
       "      <td>American Pit Bull Terrier/Pit Bull</td>\n",
       "      <td>6</td>\n",
       "      <td>M</td>\n",
       "      <td>False</td>\n",
       "      <td>Brooklyn</td>\n",
       "      <td>11221</td>\n",
       "    </tr>\n",
       "  </tbody>\n",
       "</table>\n",
       "</div>"
      ],
      "text/plain": [
       "   UniqueID       DateOfBite Species                               Breed  Age  \\\n",
       "0         1  January 02 2015     DOG                    Poodle, Standard    3   \n",
       "1         2  January 02 2015     DOG                               HUSKY  NaN   \n",
       "2         3  January 02 2015     DOG                                 NaN  NaN   \n",
       "3         4  January 01 2015     DOG  American Pit Bull Terrier/Pit Bull    6   \n",
       "\n",
       "  Gender  SpayNeuter   Borough ZipCode  \n",
       "0      M        True  Brooklyn   11238  \n",
       "1      U       False  Brooklyn   11249  \n",
       "2      U       False  Brooklyn     NaN  \n",
       "3      M       False  Brooklyn   11221  "
      ]
     },
     "execution_count": 9,
     "metadata": {},
     "output_type": "execute_result"
    }
   ],
   "source": [
    "data.head(4)"
   ]
  },
  {
   "cell_type": "code",
   "execution_count": 33,
   "id": "formal-packet",
   "metadata": {},
   "outputs": [
    {
     "name": "stdout",
     "output_type": "stream",
     "text": [
      "<class 'pandas.core.frame.DataFrame'>\n",
      "RangeIndex: 10280 entries, 0 to 10279\n",
      "Data columns (total 9 columns):\n",
      " #   Column      Non-Null Count  Dtype \n",
      "---  ------      --------------  ----- \n",
      " 0   UniqueID    10280 non-null  int64 \n",
      " 1   DateOfBite  10280 non-null  object\n",
      " 2   Species     10280 non-null  object\n",
      " 3   Breed       8692 non-null   object\n",
      " 4   Age         5534 non-null   object\n",
      " 5   Gender      10280 non-null  object\n",
      " 6   SpayNeuter  10280 non-null  bool  \n",
      " 7   Borough     10280 non-null  object\n",
      " 8   ZipCode     7613 non-null   object\n",
      "dtypes: bool(1), int64(1), object(7)\n",
      "memory usage: 652.7+ KB\n"
     ]
    }
   ],
   "source": [
    "data.info()"
   ]
  },
  {
   "cell_type": "code",
   "execution_count": 34,
   "id": "turkish-humidity",
   "metadata": {},
   "outputs": [
    {
     "data": {
      "text/plain": [
       "RangeIndex(start=0, stop=4, step=1)"
      ]
     },
     "execution_count": 34,
     "metadata": {},
     "output_type": "execute_result"
    }
   ],
   "source": [
    "df.index"
   ]
  },
  {
   "cell_type": "code",
   "execution_count": 35,
   "id": "gorgeous-mustang",
   "metadata": {},
   "outputs": [
    {
     "data": {
      "text/plain": [
       "Index(['c', 'd'], dtype='object')"
      ]
     },
     "execution_count": 35,
     "metadata": {},
     "output_type": "execute_result"
    }
   ],
   "source": [
    "df.columns"
   ]
  },
  {
   "cell_type": "code",
   "execution_count": 36,
   "id": "substantial-stephen",
   "metadata": {},
   "outputs": [
    {
     "data": {
      "text/html": [
       "<div>\n",
       "<style scoped>\n",
       "    .dataframe tbody tr th:only-of-type {\n",
       "        vertical-align: middle;\n",
       "    }\n",
       "\n",
       "    .dataframe tbody tr th {\n",
       "        vertical-align: top;\n",
       "    }\n",
       "\n",
       "    .dataframe thead th {\n",
       "        text-align: right;\n",
       "    }\n",
       "</style>\n",
       "<table border=\"1\" class=\"dataframe\">\n",
       "  <thead>\n",
       "    <tr style=\"text-align: right;\">\n",
       "      <th></th>\n",
       "      <th>c</th>\n",
       "      <th>d</th>\n",
       "    </tr>\n",
       "  </thead>\n",
       "  <tbody>\n",
       "    <tr>\n",
       "      <th>0</th>\n",
       "      <td>6</td>\n",
       "      <td>7</td>\n",
       "    </tr>\n",
       "    <tr>\n",
       "      <th>1</th>\n",
       "      <td>10</td>\n",
       "      <td>11</td>\n",
       "    </tr>\n",
       "    <tr>\n",
       "      <th>2</th>\n",
       "      <td>14</td>\n",
       "      <td>15</td>\n",
       "    </tr>\n",
       "    <tr>\n",
       "      <th>3</th>\n",
       "      <td>18</td>\n",
       "      <td>19</td>\n",
       "    </tr>\n",
       "  </tbody>\n",
       "</table>\n",
       "</div>"
      ],
      "text/plain": [
       "    c   d\n",
       "0   6   7\n",
       "1  10  11\n",
       "2  14  15\n",
       "3  18  19"
      ]
     },
     "execution_count": 36,
     "metadata": {},
     "output_type": "execute_result"
    }
   ],
   "source": [
    "df"
   ]
  },
  {
   "cell_type": "code",
   "execution_count": 38,
   "id": "square-companion",
   "metadata": {},
   "outputs": [
    {
     "ename": "TypeError",
     "evalue": "Index does not support mutable operations",
     "output_type": "error",
     "traceback": [
      "\u001b[0;31m---------------------------------------------------------------------------\u001b[0m",
      "\u001b[0;31mTypeError\u001b[0m                                 Traceback (most recent call last)",
      "\u001b[0;32m<ipython-input-38-c0c78c911faf>\u001b[0m in \u001b[0;36m<module>\u001b[0;34m\u001b[0m\n\u001b[0;32m----> 1\u001b[0;31m \u001b[0mdf\u001b[0m\u001b[0;34m.\u001b[0m\u001b[0mcolumns\u001b[0m\u001b[0;34m[\u001b[0m\u001b[0;36m0\u001b[0m\u001b[0;34m]\u001b[0m\u001b[0;34m=\u001b[0m\u001b[0;34m'what'\u001b[0m\u001b[0;34m\u001b[0m\u001b[0;34m\u001b[0m\u001b[0m\n\u001b[0m",
      "\u001b[0;32m~/anaconda3/lib/python3.8/site-packages/pandas/core/indexes/base.py\u001b[0m in \u001b[0;36m__setitem__\u001b[0;34m(self, key, value)\u001b[0m\n\u001b[1;32m   4275\u001b[0m     \u001b[0;34m@\u001b[0m\u001b[0mfinal\u001b[0m\u001b[0;34m\u001b[0m\u001b[0;34m\u001b[0m\u001b[0m\n\u001b[1;32m   4276\u001b[0m     \u001b[0;32mdef\u001b[0m \u001b[0m__setitem__\u001b[0m\u001b[0;34m(\u001b[0m\u001b[0mself\u001b[0m\u001b[0;34m,\u001b[0m \u001b[0mkey\u001b[0m\u001b[0;34m,\u001b[0m \u001b[0mvalue\u001b[0m\u001b[0;34m)\u001b[0m\u001b[0;34m:\u001b[0m\u001b[0;34m\u001b[0m\u001b[0;34m\u001b[0m\u001b[0m\n\u001b[0;32m-> 4277\u001b[0;31m         \u001b[0;32mraise\u001b[0m \u001b[0mTypeError\u001b[0m\u001b[0;34m(\u001b[0m\u001b[0;34m\"Index does not support mutable operations\"\u001b[0m\u001b[0;34m)\u001b[0m\u001b[0;34m\u001b[0m\u001b[0;34m\u001b[0m\u001b[0m\n\u001b[0m\u001b[1;32m   4278\u001b[0m \u001b[0;34m\u001b[0m\u001b[0m\n\u001b[1;32m   4279\u001b[0m     \u001b[0;32mdef\u001b[0m \u001b[0m__getitem__\u001b[0m\u001b[0;34m(\u001b[0m\u001b[0mself\u001b[0m\u001b[0;34m,\u001b[0m \u001b[0mkey\u001b[0m\u001b[0;34m)\u001b[0m\u001b[0;34m:\u001b[0m\u001b[0;34m\u001b[0m\u001b[0;34m\u001b[0m\u001b[0m\n",
      "\u001b[0;31mTypeError\u001b[0m: Index does not support mutable operations"
     ]
    }
   ],
   "source": [
    "df.columns[0]='what' #cannot change names by assignment "
   ]
  },
  {
   "cell_type": "code",
   "execution_count": 40,
   "id": "adverse-killing",
   "metadata": {},
   "outputs": [
    {
     "data": {
      "text/html": [
       "<div>\n",
       "<style scoped>\n",
       "    .dataframe tbody tr th:only-of-type {\n",
       "        vertical-align: middle;\n",
       "    }\n",
       "\n",
       "    .dataframe tbody tr th {\n",
       "        vertical-align: top;\n",
       "    }\n",
       "\n",
       "    .dataframe thead th {\n",
       "        text-align: right;\n",
       "    }\n",
       "</style>\n",
       "<table border=\"1\" class=\"dataframe\">\n",
       "  <thead>\n",
       "    <tr style=\"text-align: right;\">\n",
       "      <th></th>\n",
       "      <th>c</th>\n",
       "      <th>d</th>\n",
       "    </tr>\n",
       "  </thead>\n",
       "  <tbody>\n",
       "    <tr>\n",
       "      <th>0</th>\n",
       "      <td>6</td>\n",
       "      <td>7</td>\n",
       "    </tr>\n",
       "    <tr>\n",
       "      <th>1</th>\n",
       "      <td>10</td>\n",
       "      <td>11</td>\n",
       "    </tr>\n",
       "    <tr>\n",
       "      <th>2</th>\n",
       "      <td>14</td>\n",
       "      <td>15</td>\n",
       "    </tr>\n",
       "    <tr>\n",
       "      <th>3</th>\n",
       "      <td>18</td>\n",
       "      <td>19</td>\n",
       "    </tr>\n",
       "  </tbody>\n",
       "</table>\n",
       "</div>"
      ],
      "text/plain": [
       "    c   d\n",
       "0   6   7\n",
       "1  10  11\n",
       "2  14  15\n",
       "3  18  19"
      ]
     },
     "execution_count": 40,
     "metadata": {},
     "output_type": "execute_result"
    }
   ],
   "source": [
    "df"
   ]
  },
  {
   "cell_type": "code",
   "execution_count": 41,
   "id": "devoted-coordination",
   "metadata": {},
   "outputs": [
    {
     "data": {
      "text/html": [
       "<div>\n",
       "<style scoped>\n",
       "    .dataframe tbody tr th:only-of-type {\n",
       "        vertical-align: middle;\n",
       "    }\n",
       "\n",
       "    .dataframe tbody tr th {\n",
       "        vertical-align: top;\n",
       "    }\n",
       "\n",
       "    .dataframe thead th {\n",
       "        text-align: right;\n",
       "    }\n",
       "</style>\n",
       "<table border=\"1\" class=\"dataframe\">\n",
       "  <thead>\n",
       "    <tr style=\"text-align: right;\">\n",
       "      <th></th>\n",
       "      <th>d</th>\n",
       "      <th>d</th>\n",
       "      <th>c</th>\n",
       "    </tr>\n",
       "  </thead>\n",
       "  <tbody>\n",
       "    <tr>\n",
       "      <th>0</th>\n",
       "      <td>7</td>\n",
       "      <td>7</td>\n",
       "      <td>6</td>\n",
       "    </tr>\n",
       "    <tr>\n",
       "      <th>1</th>\n",
       "      <td>11</td>\n",
       "      <td>11</td>\n",
       "      <td>10</td>\n",
       "    </tr>\n",
       "    <tr>\n",
       "      <th>2</th>\n",
       "      <td>15</td>\n",
       "      <td>15</td>\n",
       "      <td>14</td>\n",
       "    </tr>\n",
       "    <tr>\n",
       "      <th>3</th>\n",
       "      <td>19</td>\n",
       "      <td>19</td>\n",
       "      <td>18</td>\n",
       "    </tr>\n",
       "  </tbody>\n",
       "</table>\n",
       "</div>"
      ],
      "text/plain": [
       "    d   d   c\n",
       "0   7   7   6\n",
       "1  11  11  10\n",
       "2  15  15  14\n",
       "3  19  19  18"
      ]
     },
     "execution_count": 41,
     "metadata": {},
     "output_type": "execute_result"
    }
   ],
   "source": [
    "df[['d','d','c']]"
   ]
  },
  {
   "cell_type": "code",
   "execution_count": 42,
   "id": "flexible-holly",
   "metadata": {},
   "outputs": [
    {
     "ename": "KeyError",
     "evalue": "\"['x'] not in index\"",
     "output_type": "error",
     "traceback": [
      "\u001b[0;31m---------------------------------------------------------------------------\u001b[0m",
      "\u001b[0;31mKeyError\u001b[0m                                  Traceback (most recent call last)",
      "\u001b[0;32m<ipython-input-42-41ef00037fc8>\u001b[0m in \u001b[0;36m<module>\u001b[0;34m\u001b[0m\n\u001b[0;32m----> 1\u001b[0;31m \u001b[0mdf\u001b[0m\u001b[0;34m[\u001b[0m\u001b[0;34m[\u001b[0m\u001b[0;34m'd'\u001b[0m\u001b[0;34m,\u001b[0m\u001b[0;34m'd'\u001b[0m\u001b[0;34m,\u001b[0m\u001b[0;34m'c'\u001b[0m\u001b[0;34m,\u001b[0m\u001b[0;34m'x'\u001b[0m\u001b[0;34m]\u001b[0m\u001b[0;34m]\u001b[0m\u001b[0;34m\u001b[0m\u001b[0;34m\u001b[0m\u001b[0m\n\u001b[0m",
      "\u001b[0;32m~/anaconda3/lib/python3.8/site-packages/pandas/core/frame.py\u001b[0m in \u001b[0;36m__getitem__\u001b[0;34m(self, key)\u001b[0m\n\u001b[1;32m   3028\u001b[0m             \u001b[0;32mif\u001b[0m \u001b[0mis_iterator\u001b[0m\u001b[0;34m(\u001b[0m\u001b[0mkey\u001b[0m\u001b[0;34m)\u001b[0m\u001b[0;34m:\u001b[0m\u001b[0;34m\u001b[0m\u001b[0;34m\u001b[0m\u001b[0m\n\u001b[1;32m   3029\u001b[0m                 \u001b[0mkey\u001b[0m \u001b[0;34m=\u001b[0m \u001b[0mlist\u001b[0m\u001b[0;34m(\u001b[0m\u001b[0mkey\u001b[0m\u001b[0;34m)\u001b[0m\u001b[0;34m\u001b[0m\u001b[0;34m\u001b[0m\u001b[0m\n\u001b[0;32m-> 3030\u001b[0;31m             \u001b[0mindexer\u001b[0m \u001b[0;34m=\u001b[0m \u001b[0mself\u001b[0m\u001b[0;34m.\u001b[0m\u001b[0mloc\u001b[0m\u001b[0;34m.\u001b[0m\u001b[0m_get_listlike_indexer\u001b[0m\u001b[0;34m(\u001b[0m\u001b[0mkey\u001b[0m\u001b[0;34m,\u001b[0m \u001b[0maxis\u001b[0m\u001b[0;34m=\u001b[0m\u001b[0;36m1\u001b[0m\u001b[0;34m,\u001b[0m \u001b[0mraise_missing\u001b[0m\u001b[0;34m=\u001b[0m\u001b[0;32mTrue\u001b[0m\u001b[0;34m)\u001b[0m\u001b[0;34m[\u001b[0m\u001b[0;36m1\u001b[0m\u001b[0;34m]\u001b[0m\u001b[0;34m\u001b[0m\u001b[0;34m\u001b[0m\u001b[0m\n\u001b[0m\u001b[1;32m   3031\u001b[0m \u001b[0;34m\u001b[0m\u001b[0m\n\u001b[1;32m   3032\u001b[0m         \u001b[0;31m# take() does not accept boolean indexers\u001b[0m\u001b[0;34m\u001b[0m\u001b[0;34m\u001b[0m\u001b[0;34m\u001b[0m\u001b[0m\n",
      "\u001b[0;32m~/anaconda3/lib/python3.8/site-packages/pandas/core/indexing.py\u001b[0m in \u001b[0;36m_get_listlike_indexer\u001b[0;34m(self, key, axis, raise_missing)\u001b[0m\n\u001b[1;32m   1263\u001b[0m             \u001b[0mkeyarr\u001b[0m\u001b[0;34m,\u001b[0m \u001b[0mindexer\u001b[0m\u001b[0;34m,\u001b[0m \u001b[0mnew_indexer\u001b[0m \u001b[0;34m=\u001b[0m \u001b[0max\u001b[0m\u001b[0;34m.\u001b[0m\u001b[0m_reindex_non_unique\u001b[0m\u001b[0;34m(\u001b[0m\u001b[0mkeyarr\u001b[0m\u001b[0;34m)\u001b[0m\u001b[0;34m\u001b[0m\u001b[0;34m\u001b[0m\u001b[0m\n\u001b[1;32m   1264\u001b[0m \u001b[0;34m\u001b[0m\u001b[0m\n\u001b[0;32m-> 1265\u001b[0;31m         \u001b[0mself\u001b[0m\u001b[0;34m.\u001b[0m\u001b[0m_validate_read_indexer\u001b[0m\u001b[0;34m(\u001b[0m\u001b[0mkeyarr\u001b[0m\u001b[0;34m,\u001b[0m \u001b[0mindexer\u001b[0m\u001b[0;34m,\u001b[0m \u001b[0maxis\u001b[0m\u001b[0;34m,\u001b[0m \u001b[0mraise_missing\u001b[0m\u001b[0;34m=\u001b[0m\u001b[0mraise_missing\u001b[0m\u001b[0;34m)\u001b[0m\u001b[0;34m\u001b[0m\u001b[0;34m\u001b[0m\u001b[0m\n\u001b[0m\u001b[1;32m   1266\u001b[0m         \u001b[0;32mreturn\u001b[0m \u001b[0mkeyarr\u001b[0m\u001b[0;34m,\u001b[0m \u001b[0mindexer\u001b[0m\u001b[0;34m\u001b[0m\u001b[0;34m\u001b[0m\u001b[0m\n\u001b[1;32m   1267\u001b[0m \u001b[0;34m\u001b[0m\u001b[0m\n",
      "\u001b[0;32m~/anaconda3/lib/python3.8/site-packages/pandas/core/indexing.py\u001b[0m in \u001b[0;36m_validate_read_indexer\u001b[0;34m(self, key, indexer, axis, raise_missing)\u001b[0m\n\u001b[1;32m   1313\u001b[0m             \u001b[0;32mif\u001b[0m \u001b[0mraise_missing\u001b[0m\u001b[0;34m:\u001b[0m\u001b[0;34m\u001b[0m\u001b[0;34m\u001b[0m\u001b[0m\n\u001b[1;32m   1314\u001b[0m                 \u001b[0mnot_found\u001b[0m \u001b[0;34m=\u001b[0m \u001b[0mlist\u001b[0m\u001b[0;34m(\u001b[0m\u001b[0mset\u001b[0m\u001b[0;34m(\u001b[0m\u001b[0mkey\u001b[0m\u001b[0;34m)\u001b[0m \u001b[0;34m-\u001b[0m \u001b[0mset\u001b[0m\u001b[0;34m(\u001b[0m\u001b[0max\u001b[0m\u001b[0;34m)\u001b[0m\u001b[0;34m)\u001b[0m\u001b[0;34m\u001b[0m\u001b[0;34m\u001b[0m\u001b[0m\n\u001b[0;32m-> 1315\u001b[0;31m                 \u001b[0;32mraise\u001b[0m \u001b[0mKeyError\u001b[0m\u001b[0;34m(\u001b[0m\u001b[0;34mf\"{not_found} not in index\"\u001b[0m\u001b[0;34m)\u001b[0m\u001b[0;34m\u001b[0m\u001b[0;34m\u001b[0m\u001b[0m\n\u001b[0m\u001b[1;32m   1316\u001b[0m \u001b[0;34m\u001b[0m\u001b[0m\n\u001b[1;32m   1317\u001b[0m             \u001b[0mnot_found\u001b[0m \u001b[0;34m=\u001b[0m \u001b[0mkey\u001b[0m\u001b[0;34m[\u001b[0m\u001b[0mmissing_mask\u001b[0m\u001b[0;34m]\u001b[0m\u001b[0;34m\u001b[0m\u001b[0;34m\u001b[0m\u001b[0m\n",
      "\u001b[0;31mKeyError\u001b[0m: \"['x'] not in index\""
     ]
    }
   ],
   "source": [
    "df[['d','d','c','x']]"
   ]
  },
  {
   "cell_type": "markdown",
   "id": "separate-zealand",
   "metadata": {},
   "source": [
    "## Reindexing "
   ]
  },
  {
   "cell_type": "code",
   "execution_count": 43,
   "id": "constant-matrix",
   "metadata": {},
   "outputs": [
    {
     "data": {
      "text/html": [
       "<div>\n",
       "<style scoped>\n",
       "    .dataframe tbody tr th:only-of-type {\n",
       "        vertical-align: middle;\n",
       "    }\n",
       "\n",
       "    .dataframe tbody tr th {\n",
       "        vertical-align: top;\n",
       "    }\n",
       "\n",
       "    .dataframe thead th {\n",
       "        text-align: right;\n",
       "    }\n",
       "</style>\n",
       "<table border=\"1\" class=\"dataframe\">\n",
       "  <thead>\n",
       "    <tr style=\"text-align: right;\">\n",
       "      <th></th>\n",
       "      <th>d</th>\n",
       "      <th>c</th>\n",
       "      <th>x</th>\n",
       "    </tr>\n",
       "  </thead>\n",
       "  <tbody>\n",
       "    <tr>\n",
       "      <th>0</th>\n",
       "      <td>7</td>\n",
       "      <td>6</td>\n",
       "      <td>NaN</td>\n",
       "    </tr>\n",
       "    <tr>\n",
       "      <th>1</th>\n",
       "      <td>11</td>\n",
       "      <td>10</td>\n",
       "      <td>NaN</td>\n",
       "    </tr>\n",
       "    <tr>\n",
       "      <th>2</th>\n",
       "      <td>15</td>\n",
       "      <td>14</td>\n",
       "      <td>NaN</td>\n",
       "    </tr>\n",
       "    <tr>\n",
       "      <th>3</th>\n",
       "      <td>19</td>\n",
       "      <td>18</td>\n",
       "      <td>NaN</td>\n",
       "    </tr>\n",
       "  </tbody>\n",
       "</table>\n",
       "</div>"
      ],
      "text/plain": [
       "    d   c   x\n",
       "0   7   6 NaN\n",
       "1  11  10 NaN\n",
       "2  15  14 NaN\n",
       "3  19  18 NaN"
      ]
     },
     "execution_count": 43,
     "metadata": {},
     "output_type": "execute_result"
    }
   ],
   "source": [
    "df.reindex(columns=['d','c','x'])"
   ]
  },
  {
   "cell_type": "code",
   "execution_count": 47,
   "id": "radio-tamil",
   "metadata": {},
   "outputs": [],
   "source": [
    "# fill a row wiht particular number \n",
    "s= pd.Series([5,7],list('ac'))\n"
   ]
  },
  {
   "cell_type": "code",
   "execution_count": 48,
   "id": "sweet-hundred",
   "metadata": {},
   "outputs": [
    {
     "data": {
      "text/plain": [
       "a    5\n",
       "b    5\n",
       "c    7\n",
       "d    7\n",
       "e    7\n",
       "dtype: int64"
      ]
     },
     "execution_count": 48,
     "metadata": {},
     "output_type": "execute_result"
    }
   ],
   "source": [
    "s.reindex(list('abcde'),method='ffill')"
   ]
  },
  {
   "cell_type": "code",
   "execution_count": 10,
   "id": "collect-liquid",
   "metadata": {},
   "outputs": [],
   "source": [
    "import pandas as pd\n",
    "d = [[\"$229.2\", 2017, 123000, \"$1100\", \"Cupertino, US\"],\n",
    "     [\"$211.9\", 2017, 320671, \"$284\", \"Suwon, South Korea\"],\n",
    "     [\"$177.8\", 2017, 566000, \"$985\",  \"Seattle, US\"],\n",
    "     [\"$154.7\", 2017, 1300000, \"$66\", \"New Taipei City, Taiwan\"],\n",
    "     [\"$110.8\", 2017, 80110, \"$834\", \"Mountain View, US\"]]\n",
    "\n",
    "comps = [\"apple\", \"samsung\", \"amazon\", \"foxconn\", \"alphabet\"]\n",
    "cols = [\"revenue\", \"fy\", \"employees\", \"mcap\", \"location\"]\n",
    "\n",
    "c = pd.DataFrame(d, index=comps, columns=cols)"
   ]
  },
  {
   "cell_type": "code",
   "execution_count": 11,
   "id": "facial-router",
   "metadata": {},
   "outputs": [
    {
     "data": {
      "text/html": [
       "<div>\n",
       "<style scoped>\n",
       "    .dataframe tbody tr th:only-of-type {\n",
       "        vertical-align: middle;\n",
       "    }\n",
       "\n",
       "    .dataframe tbody tr th {\n",
       "        vertical-align: top;\n",
       "    }\n",
       "\n",
       "    .dataframe thead th {\n",
       "        text-align: right;\n",
       "    }\n",
       "</style>\n",
       "<table border=\"1\" class=\"dataframe\">\n",
       "  <thead>\n",
       "    <tr style=\"text-align: right;\">\n",
       "      <th></th>\n",
       "      <th>revenue</th>\n",
       "      <th>fy</th>\n",
       "      <th>employees</th>\n",
       "      <th>mcap</th>\n",
       "      <th>location</th>\n",
       "    </tr>\n",
       "  </thead>\n",
       "  <tbody>\n",
       "    <tr>\n",
       "      <th>apple</th>\n",
       "      <td>$229.2</td>\n",
       "      <td>2017</td>\n",
       "      <td>123000</td>\n",
       "      <td>$1100</td>\n",
       "      <td>Cupertino, US</td>\n",
       "    </tr>\n",
       "    <tr>\n",
       "      <th>samsung</th>\n",
       "      <td>$211.9</td>\n",
       "      <td>2017</td>\n",
       "      <td>320671</td>\n",
       "      <td>$284</td>\n",
       "      <td>Suwon, South Korea</td>\n",
       "    </tr>\n",
       "    <tr>\n",
       "      <th>amazon</th>\n",
       "      <td>$177.8</td>\n",
       "      <td>2017</td>\n",
       "      <td>566000</td>\n",
       "      <td>$985</td>\n",
       "      <td>Seattle, US</td>\n",
       "    </tr>\n",
       "    <tr>\n",
       "      <th>foxconn</th>\n",
       "      <td>$154.7</td>\n",
       "      <td>2017</td>\n",
       "      <td>1300000</td>\n",
       "      <td>$66</td>\n",
       "      <td>New Taipei City, Taiwan</td>\n",
       "    </tr>\n",
       "    <tr>\n",
       "      <th>alphabet</th>\n",
       "      <td>$110.8</td>\n",
       "      <td>2017</td>\n",
       "      <td>80110</td>\n",
       "      <td>$834</td>\n",
       "      <td>Mountain View, US</td>\n",
       "    </tr>\n",
       "  </tbody>\n",
       "</table>\n",
       "</div>"
      ],
      "text/plain": [
       "         revenue    fy  employees   mcap                 location\n",
       "apple     $229.2  2017     123000  $1100            Cupertino, US\n",
       "samsung   $211.9  2017     320671   $284       Suwon, South Korea\n",
       "amazon    $177.8  2017     566000   $985              Seattle, US\n",
       "foxconn   $154.7  2017    1300000    $66  New Taipei City, Taiwan\n",
       "alphabet  $110.8  2017      80110   $834        Mountain View, US"
      ]
     },
     "execution_count": 11,
     "metadata": {},
     "output_type": "execute_result"
    }
   ],
   "source": [
    "c"
   ]
  },
  {
   "cell_type": "code",
   "execution_count": 51,
   "id": "occasional-agreement",
   "metadata": {},
   "outputs": [],
   "source": [
    "del c['fy']"
   ]
  },
  {
   "cell_type": "code",
   "execution_count": 53,
   "id": "equipped-applicant",
   "metadata": {},
   "outputs": [],
   "source": [
    "c.drop('mcap',axis=1,inplace=True)"
   ]
  },
  {
   "cell_type": "code",
   "execution_count": 55,
   "id": "elegant-bahamas",
   "metadata": {},
   "outputs": [
    {
     "data": {
      "text/html": [
       "<div>\n",
       "<style scoped>\n",
       "    .dataframe tbody tr th:only-of-type {\n",
       "        vertical-align: middle;\n",
       "    }\n",
       "\n",
       "    .dataframe tbody tr th {\n",
       "        vertical-align: top;\n",
       "    }\n",
       "\n",
       "    .dataframe thead th {\n",
       "        text-align: right;\n",
       "    }\n",
       "</style>\n",
       "<table border=\"1\" class=\"dataframe\">\n",
       "  <thead>\n",
       "    <tr style=\"text-align: right;\">\n",
       "      <th></th>\n",
       "      <th>revenue</th>\n",
       "      <th>employees</th>\n",
       "      <th>location</th>\n",
       "    </tr>\n",
       "  </thead>\n",
       "  <tbody>\n",
       "    <tr>\n",
       "      <th>apple</th>\n",
       "      <td>$229.2</td>\n",
       "      <td>123000</td>\n",
       "      <td>Cupertino, US</td>\n",
       "    </tr>\n",
       "    <tr>\n",
       "      <th>samsung</th>\n",
       "      <td>$211.9</td>\n",
       "      <td>320671</td>\n",
       "      <td>Suwon, South Korea</td>\n",
       "    </tr>\n",
       "    <tr>\n",
       "      <th>amazon</th>\n",
       "      <td>$177.8</td>\n",
       "      <td>566000</td>\n",
       "      <td>Seattle, US</td>\n",
       "    </tr>\n",
       "    <tr>\n",
       "      <th>foxconn</th>\n",
       "      <td>$154.7</td>\n",
       "      <td>1300000</td>\n",
       "      <td>New Taipei City, Taiwan</td>\n",
       "    </tr>\n",
       "    <tr>\n",
       "      <th>alphabet</th>\n",
       "      <td>$110.8</td>\n",
       "      <td>80110</td>\n",
       "      <td>Mountain View, US</td>\n",
       "    </tr>\n",
       "  </tbody>\n",
       "</table>\n",
       "</div>"
      ],
      "text/plain": [
       "         revenue  employees                 location\n",
       "apple     $229.2     123000            Cupertino, US\n",
       "samsung   $211.9     320671       Suwon, South Korea\n",
       "amazon    $177.8     566000              Seattle, US\n",
       "foxconn   $154.7    1300000  New Taipei City, Taiwan\n",
       "alphabet  $110.8      80110        Mountain View, US"
      ]
     },
     "execution_count": 55,
     "metadata": {},
     "output_type": "execute_result"
    }
   ],
   "source": [
    "c"
   ]
  },
  {
   "cell_type": "code",
   "execution_count": 56,
   "id": "analyzed-navigation",
   "metadata": {},
   "outputs": [
    {
     "data": {
      "text/plain": [
       "apple        123000\n",
       "samsung      320671\n",
       "amazon       566000\n",
       "foxconn     1300000\n",
       "alphabet      80110\n",
       "Name: employees, dtype: int64"
      ]
     },
     "execution_count": 56,
     "metadata": {},
     "output_type": "execute_result"
    }
   ],
   "source": [
    "c['employees']"
   ]
  },
  {
   "cell_type": "code",
   "execution_count": 58,
   "id": "latest-disposal",
   "metadata": {},
   "outputs": [
    {
     "data": {
      "text/plain": [
       "apple        123000\n",
       "samsung      320671\n",
       "amazon       566000\n",
       "foxconn     1300000\n",
       "alphabet      80110\n",
       "Name: employees, dtype: int64"
      ]
     },
     "execution_count": 58,
     "metadata": {},
     "output_type": "execute_result"
    }
   ],
   "source": [
    "c.loc[:,'employees']"
   ]
  },
  {
   "cell_type": "code",
   "execution_count": 60,
   "id": "interstate-penny",
   "metadata": {},
   "outputs": [
    {
     "data": {
      "text/plain": [
       "apple       $229.2\n",
       "samsung     $211.9\n",
       "amazon      $177.8\n",
       "foxconn     $154.7\n",
       "alphabet    $110.8\n",
       "Name: revenue, dtype: object"
      ]
     },
     "execution_count": 60,
     "metadata": {},
     "output_type": "execute_result"
    }
   ],
   "source": [
    "c['revenue']"
   ]
  },
  {
   "cell_type": "code",
   "execution_count": 61,
   "id": "ranking-channels",
   "metadata": {},
   "outputs": [
    {
     "data": {
      "text/plain": [
       "'$177.8'"
      ]
     },
     "execution_count": 61,
     "metadata": {},
     "output_type": "execute_result"
    }
   ],
   "source": [
    "c['revenue']['amazon']"
   ]
  },
  {
   "cell_type": "code",
   "execution_count": 62,
   "id": "accredited-burlington",
   "metadata": {},
   "outputs": [
    {
     "data": {
      "text/html": [
       "<div>\n",
       "<style scoped>\n",
       "    .dataframe tbody tr th:only-of-type {\n",
       "        vertical-align: middle;\n",
       "    }\n",
       "\n",
       "    .dataframe tbody tr th {\n",
       "        vertical-align: top;\n",
       "    }\n",
       "\n",
       "    .dataframe thead th {\n",
       "        text-align: right;\n",
       "    }\n",
       "</style>\n",
       "<table border=\"1\" class=\"dataframe\">\n",
       "  <thead>\n",
       "    <tr style=\"text-align: right;\">\n",
       "      <th></th>\n",
       "      <th>revenue</th>\n",
       "      <th>employees</th>\n",
       "      <th>location</th>\n",
       "    </tr>\n",
       "  </thead>\n",
       "  <tbody>\n",
       "    <tr>\n",
       "      <th>apple</th>\n",
       "      <td>$229.2</td>\n",
       "      <td>123000</td>\n",
       "      <td>Cupertino, US</td>\n",
       "    </tr>\n",
       "    <tr>\n",
       "      <th>samsung</th>\n",
       "      <td>$211.9</td>\n",
       "      <td>320671</td>\n",
       "      <td>Suwon, South Korea</td>\n",
       "    </tr>\n",
       "    <tr>\n",
       "      <th>amazon</th>\n",
       "      <td>$177.8</td>\n",
       "      <td>566000</td>\n",
       "      <td>Seattle, US</td>\n",
       "    </tr>\n",
       "    <tr>\n",
       "      <th>foxconn</th>\n",
       "      <td>$154.7</td>\n",
       "      <td>1300000</td>\n",
       "      <td>New Taipei City, Taiwan</td>\n",
       "    </tr>\n",
       "    <tr>\n",
       "      <th>alphabet</th>\n",
       "      <td>$110.8</td>\n",
       "      <td>80110</td>\n",
       "      <td>Mountain View, US</td>\n",
       "    </tr>\n",
       "  </tbody>\n",
       "</table>\n",
       "</div>"
      ],
      "text/plain": [
       "         revenue  employees                 location\n",
       "apple     $229.2     123000            Cupertino, US\n",
       "samsung   $211.9     320671       Suwon, South Korea\n",
       "amazon    $177.8     566000              Seattle, US\n",
       "foxconn   $154.7    1300000  New Taipei City, Taiwan\n",
       "alphabet  $110.8      80110        Mountain View, US"
      ]
     },
     "execution_count": 62,
     "metadata": {},
     "output_type": "execute_result"
    }
   ],
   "source": [
    "c"
   ]
  },
  {
   "cell_type": "code",
   "execution_count": 63,
   "id": "elementary-burton",
   "metadata": {},
   "outputs": [
    {
     "data": {
      "text/html": [
       "<div>\n",
       "<style scoped>\n",
       "    .dataframe tbody tr th:only-of-type {\n",
       "        vertical-align: middle;\n",
       "    }\n",
       "\n",
       "    .dataframe tbody tr th {\n",
       "        vertical-align: top;\n",
       "    }\n",
       "\n",
       "    .dataframe thead th {\n",
       "        text-align: right;\n",
       "    }\n",
       "</style>\n",
       "<table border=\"1\" class=\"dataframe\">\n",
       "  <thead>\n",
       "    <tr style=\"text-align: right;\">\n",
       "      <th></th>\n",
       "      <th>revenue</th>\n",
       "      <th>location</th>\n",
       "    </tr>\n",
       "  </thead>\n",
       "  <tbody>\n",
       "    <tr>\n",
       "      <th>apple</th>\n",
       "      <td>$229.2</td>\n",
       "      <td>Cupertino, US</td>\n",
       "    </tr>\n",
       "    <tr>\n",
       "      <th>samsung</th>\n",
       "      <td>$211.9</td>\n",
       "      <td>Suwon, South Korea</td>\n",
       "    </tr>\n",
       "    <tr>\n",
       "      <th>amazon</th>\n",
       "      <td>$177.8</td>\n",
       "      <td>Seattle, US</td>\n",
       "    </tr>\n",
       "  </tbody>\n",
       "</table>\n",
       "</div>"
      ],
      "text/plain": [
       "        revenue            location\n",
       "apple    $229.2       Cupertino, US\n",
       "samsung  $211.9  Suwon, South Korea\n",
       "amazon   $177.8         Seattle, US"
      ]
     },
     "execution_count": 63,
     "metadata": {},
     "output_type": "execute_result"
    }
   ],
   "source": [
    "c.loc['apple':'amazon'][['revenue','location']]"
   ]
  },
  {
   "cell_type": "code",
   "execution_count": 64,
   "id": "running-premiere",
   "metadata": {},
   "outputs": [
    {
     "data": {
      "text/html": [
       "<div>\n",
       "<style scoped>\n",
       "    .dataframe tbody tr th:only-of-type {\n",
       "        vertical-align: middle;\n",
       "    }\n",
       "\n",
       "    .dataframe tbody tr th {\n",
       "        vertical-align: top;\n",
       "    }\n",
       "\n",
       "    .dataframe thead th {\n",
       "        text-align: right;\n",
       "    }\n",
       "</style>\n",
       "<table border=\"1\" class=\"dataframe\">\n",
       "  <thead>\n",
       "    <tr style=\"text-align: right;\">\n",
       "      <th></th>\n",
       "      <th>revenue</th>\n",
       "      <th>employees</th>\n",
       "      <th>location</th>\n",
       "    </tr>\n",
       "  </thead>\n",
       "  <tbody>\n",
       "    <tr>\n",
       "      <th>apple</th>\n",
       "      <td>$229.2</td>\n",
       "      <td>123000</td>\n",
       "      <td>Cupertino, US</td>\n",
       "    </tr>\n",
       "    <tr>\n",
       "      <th>samsung</th>\n",
       "      <td>$211.9</td>\n",
       "      <td>320671</td>\n",
       "      <td>Suwon, South Korea</td>\n",
       "    </tr>\n",
       "    <tr>\n",
       "      <th>amazon</th>\n",
       "      <td>$177.8</td>\n",
       "      <td>566000</td>\n",
       "      <td>Seattle, US</td>\n",
       "    </tr>\n",
       "    <tr>\n",
       "      <th>foxconn</th>\n",
       "      <td>$154.7</td>\n",
       "      <td>1300000</td>\n",
       "      <td>New Taipei City, Taiwan</td>\n",
       "    </tr>\n",
       "    <tr>\n",
       "      <th>alphabet</th>\n",
       "      <td>$110.8</td>\n",
       "      <td>80110</td>\n",
       "      <td>Mountain View, US</td>\n",
       "    </tr>\n",
       "  </tbody>\n",
       "</table>\n",
       "</div>"
      ],
      "text/plain": [
       "         revenue  employees                 location\n",
       "apple     $229.2     123000            Cupertino, US\n",
       "samsung   $211.9     320671       Suwon, South Korea\n",
       "amazon    $177.8     566000              Seattle, US\n",
       "foxconn   $154.7    1300000  New Taipei City, Taiwan\n",
       "alphabet  $110.8      80110        Mountain View, US"
      ]
     },
     "execution_count": 64,
     "metadata": {},
     "output_type": "execute_result"
    }
   ],
   "source": [
    "c"
   ]
  },
  {
   "cell_type": "code",
   "execution_count": 65,
   "id": "sublime-nursing",
   "metadata": {},
   "outputs": [],
   "source": [
    "# Add a column with series \n",
    "c['state']=pd.Series({'apple':'CA','amazon':'WA','alphabet':'CA'})"
   ]
  },
  {
   "cell_type": "code",
   "execution_count": 67,
   "id": "royal-arlington",
   "metadata": {},
   "outputs": [
    {
     "data": {
      "text/html": [
       "<div>\n",
       "<style scoped>\n",
       "    .dataframe tbody tr th:only-of-type {\n",
       "        vertical-align: middle;\n",
       "    }\n",
       "\n",
       "    .dataframe tbody tr th {\n",
       "        vertical-align: top;\n",
       "    }\n",
       "\n",
       "    .dataframe thead th {\n",
       "        text-align: right;\n",
       "    }\n",
       "</style>\n",
       "<table border=\"1\" class=\"dataframe\">\n",
       "  <thead>\n",
       "    <tr style=\"text-align: right;\">\n",
       "      <th></th>\n",
       "      <th>revenue</th>\n",
       "      <th>employees</th>\n",
       "      <th>location</th>\n",
       "      <th>state</th>\n",
       "    </tr>\n",
       "  </thead>\n",
       "  <tbody>\n",
       "    <tr>\n",
       "      <th>apple</th>\n",
       "      <td>$229.2</td>\n",
       "      <td>123000</td>\n",
       "      <td>Cupertino, US</td>\n",
       "      <td>CA</td>\n",
       "    </tr>\n",
       "    <tr>\n",
       "      <th>samsung</th>\n",
       "      <td>$211.9</td>\n",
       "      <td>320671</td>\n",
       "      <td>Suwon, South Korea</td>\n",
       "      <td>NaN</td>\n",
       "    </tr>\n",
       "    <tr>\n",
       "      <th>amazon</th>\n",
       "      <td>$177.8</td>\n",
       "      <td>566000</td>\n",
       "      <td>Seattle, US</td>\n",
       "      <td>WA</td>\n",
       "    </tr>\n",
       "    <tr>\n",
       "      <th>foxconn</th>\n",
       "      <td>$154.7</td>\n",
       "      <td>1300000</td>\n",
       "      <td>New Taipei City, Taiwan</td>\n",
       "      <td>NaN</td>\n",
       "    </tr>\n",
       "    <tr>\n",
       "      <th>alphabet</th>\n",
       "      <td>$110.8</td>\n",
       "      <td>80110</td>\n",
       "      <td>Mountain View, US</td>\n",
       "      <td>CA</td>\n",
       "    </tr>\n",
       "  </tbody>\n",
       "</table>\n",
       "</div>"
      ],
      "text/plain": [
       "         revenue  employees                 location state\n",
       "apple     $229.2     123000            Cupertino, US    CA\n",
       "samsung   $211.9     320671       Suwon, South Korea   NaN\n",
       "amazon    $177.8     566000              Seattle, US    WA\n",
       "foxconn   $154.7    1300000  New Taipei City, Taiwan   NaN\n",
       "alphabet  $110.8      80110        Mountain View, US    CA"
      ]
     },
     "execution_count": 67,
     "metadata": {},
     "output_type": "execute_result"
    }
   ],
   "source": [
    "c"
   ]
  },
  {
   "cell_type": "code",
   "execution_count": 68,
   "id": "constitutional-reunion",
   "metadata": {},
   "outputs": [
    {
     "data": {
      "text/html": [
       "<div>\n",
       "<style scoped>\n",
       "    .dataframe tbody tr th:only-of-type {\n",
       "        vertical-align: middle;\n",
       "    }\n",
       "\n",
       "    .dataframe tbody tr th {\n",
       "        vertical-align: top;\n",
       "    }\n",
       "\n",
       "    .dataframe thead th {\n",
       "        text-align: right;\n",
       "    }\n",
       "</style>\n",
       "<table border=\"1\" class=\"dataframe\">\n",
       "  <thead>\n",
       "    <tr style=\"text-align: right;\">\n",
       "      <th></th>\n",
       "      <th>revenue</th>\n",
       "      <th>location</th>\n",
       "    </tr>\n",
       "  </thead>\n",
       "  <tbody>\n",
       "    <tr>\n",
       "      <th>apple</th>\n",
       "      <td>$229.2</td>\n",
       "      <td>Cupertino, US</td>\n",
       "    </tr>\n",
       "    <tr>\n",
       "      <th>samsung</th>\n",
       "      <td>$211.9</td>\n",
       "      <td>Suwon, South Korea</td>\n",
       "    </tr>\n",
       "    <tr>\n",
       "      <th>amazon</th>\n",
       "      <td>$177.8</td>\n",
       "      <td>Seattle, US</td>\n",
       "    </tr>\n",
       "  </tbody>\n",
       "</table>\n",
       "</div>"
      ],
      "text/plain": [
       "        revenue            location\n",
       "apple    $229.2       Cupertino, US\n",
       "samsung  $211.9  Suwon, South Korea\n",
       "amazon   $177.8         Seattle, US"
      ]
     },
     "execution_count": 68,
     "metadata": {},
     "output_type": "execute_result"
    }
   ],
   "source": [
    "c.loc['apple':'amazon',['revenue','location']]"
   ]
  },
  {
   "cell_type": "code",
   "execution_count": 69,
   "id": "rolled-basis",
   "metadata": {},
   "outputs": [
    {
     "data": {
      "text/html": [
       "<div>\n",
       "<style scoped>\n",
       "    .dataframe tbody tr th:only-of-type {\n",
       "        vertical-align: middle;\n",
       "    }\n",
       "\n",
       "    .dataframe tbody tr th {\n",
       "        vertical-align: top;\n",
       "    }\n",
       "\n",
       "    .dataframe thead th {\n",
       "        text-align: right;\n",
       "    }\n",
       "</style>\n",
       "<table border=\"1\" class=\"dataframe\">\n",
       "  <thead>\n",
       "    <tr style=\"text-align: right;\">\n",
       "      <th></th>\n",
       "      <th>revenue</th>\n",
       "      <th>employees</th>\n",
       "      <th>location</th>\n",
       "      <th>state</th>\n",
       "    </tr>\n",
       "  </thead>\n",
       "  <tbody>\n",
       "    <tr>\n",
       "      <th>apple</th>\n",
       "      <td>$229.2</td>\n",
       "      <td>123000</td>\n",
       "      <td>Cupertino, US</td>\n",
       "      <td>CA</td>\n",
       "    </tr>\n",
       "    <tr>\n",
       "      <th>samsung</th>\n",
       "      <td>$211.9</td>\n",
       "      <td>320671</td>\n",
       "      <td>Suwon, South Korea</td>\n",
       "      <td>NaN</td>\n",
       "    </tr>\n",
       "  </tbody>\n",
       "</table>\n",
       "</div>"
      ],
      "text/plain": [
       "        revenue  employees            location state\n",
       "apple    $229.2     123000       Cupertino, US    CA\n",
       "samsung  $211.9     320671  Suwon, South Korea   NaN"
      ]
     },
     "execution_count": 69,
     "metadata": {},
     "output_type": "execute_result"
    }
   ],
   "source": [
    "c.iloc[:2]"
   ]
  },
  {
   "cell_type": "code",
   "execution_count": 71,
   "id": "funny-aviation",
   "metadata": {},
   "outputs": [
    {
     "data": {
      "text/plain": [
       "apple        1.23000\n",
       "samsung      3.20671\n",
       "amazon       5.66000\n",
       "foxconn     13.00000\n",
       "alphabet     0.80110\n",
       "Name: employees, dtype: float64"
      ]
     },
     "execution_count": 71,
     "metadata": {},
     "output_type": "execute_result"
    }
   ],
   "source": [
    "c['employees'] /100000"
   ]
  },
  {
   "cell_type": "code",
   "execution_count": 72,
   "id": "ranking-piano",
   "metadata": {},
   "outputs": [
    {
     "data": {
      "text/plain": [
       "apple        True\n",
       "samsung     False\n",
       "amazon      False\n",
       "foxconn     False\n",
       "alphabet     True\n",
       "Name: employees, dtype: bool"
      ]
     },
     "execution_count": 72,
     "metadata": {},
     "output_type": "execute_result"
    }
   ],
   "source": [
    "# all info for all companies that have employees less than 200k \n",
    "\n",
    "\n",
    "c['employees'] <200000"
   ]
  },
  {
   "cell_type": "code",
   "execution_count": 73,
   "id": "informational-michael",
   "metadata": {},
   "outputs": [
    {
     "data": {
      "text/html": [
       "<div>\n",
       "<style scoped>\n",
       "    .dataframe tbody tr th:only-of-type {\n",
       "        vertical-align: middle;\n",
       "    }\n",
       "\n",
       "    .dataframe tbody tr th {\n",
       "        vertical-align: top;\n",
       "    }\n",
       "\n",
       "    .dataframe thead th {\n",
       "        text-align: right;\n",
       "    }\n",
       "</style>\n",
       "<table border=\"1\" class=\"dataframe\">\n",
       "  <thead>\n",
       "    <tr style=\"text-align: right;\">\n",
       "      <th></th>\n",
       "      <th>revenue</th>\n",
       "      <th>employees</th>\n",
       "      <th>location</th>\n",
       "      <th>state</th>\n",
       "    </tr>\n",
       "  </thead>\n",
       "  <tbody>\n",
       "    <tr>\n",
       "      <th>apple</th>\n",
       "      <td>$229.2</td>\n",
       "      <td>123000</td>\n",
       "      <td>Cupertino, US</td>\n",
       "      <td>CA</td>\n",
       "    </tr>\n",
       "    <tr>\n",
       "      <th>alphabet</th>\n",
       "      <td>$110.8</td>\n",
       "      <td>80110</td>\n",
       "      <td>Mountain View, US</td>\n",
       "      <td>CA</td>\n",
       "    </tr>\n",
       "  </tbody>\n",
       "</table>\n",
       "</div>"
      ],
      "text/plain": [
       "         revenue  employees           location state\n",
       "apple     $229.2     123000      Cupertino, US    CA\n",
       "alphabet  $110.8      80110  Mountain View, US    CA"
      ]
     },
     "execution_count": 73,
     "metadata": {},
     "output_type": "execute_result"
    }
   ],
   "source": [
    "c[c['employees'] <200000]"
   ]
  },
  {
   "cell_type": "code",
   "execution_count": 74,
   "id": "executive-document",
   "metadata": {},
   "outputs": [
    {
     "data": {
      "text/html": [
       "<div>\n",
       "<style scoped>\n",
       "    .dataframe tbody tr th:only-of-type {\n",
       "        vertical-align: middle;\n",
       "    }\n",
       "\n",
       "    .dataframe tbody tr th {\n",
       "        vertical-align: top;\n",
       "    }\n",
       "\n",
       "    .dataframe thead th {\n",
       "        text-align: right;\n",
       "    }\n",
       "</style>\n",
       "<table border=\"1\" class=\"dataframe\">\n",
       "  <thead>\n",
       "    <tr style=\"text-align: right;\">\n",
       "      <th></th>\n",
       "      <th>revenue</th>\n",
       "      <th>employees</th>\n",
       "      <th>location</th>\n",
       "      <th>state</th>\n",
       "    </tr>\n",
       "  </thead>\n",
       "  <tbody>\n",
       "    <tr>\n",
       "      <th>apple</th>\n",
       "      <td>$229.2</td>\n",
       "      <td>123000</td>\n",
       "      <td>Cupertino, US</td>\n",
       "      <td>CA</td>\n",
       "    </tr>\n",
       "    <tr>\n",
       "      <th>samsung</th>\n",
       "      <td>$211.9</td>\n",
       "      <td>320671</td>\n",
       "      <td>Suwon, South Korea</td>\n",
       "      <td>NaN</td>\n",
       "    </tr>\n",
       "    <tr>\n",
       "      <th>amazon</th>\n",
       "      <td>$177.8</td>\n",
       "      <td>566000</td>\n",
       "      <td>Seattle, US</td>\n",
       "      <td>WA</td>\n",
       "    </tr>\n",
       "    <tr>\n",
       "      <th>foxconn</th>\n",
       "      <td>$154.7</td>\n",
       "      <td>1300000</td>\n",
       "      <td>New Taipei City, Taiwan</td>\n",
       "      <td>NaN</td>\n",
       "    </tr>\n",
       "    <tr>\n",
       "      <th>alphabet</th>\n",
       "      <td>$110.8</td>\n",
       "      <td>80110</td>\n",
       "      <td>Mountain View, US</td>\n",
       "      <td>CA</td>\n",
       "    </tr>\n",
       "  </tbody>\n",
       "</table>\n",
       "</div>"
      ],
      "text/plain": [
       "         revenue  employees                 location state\n",
       "apple     $229.2     123000            Cupertino, US    CA\n",
       "samsung   $211.9     320671       Suwon, South Korea   NaN\n",
       "amazon    $177.8     566000              Seattle, US    WA\n",
       "foxconn   $154.7    1300000  New Taipei City, Taiwan   NaN\n",
       "alphabet  $110.8      80110        Mountain View, US    CA"
      ]
     },
     "execution_count": 74,
     "metadata": {},
     "output_type": "execute_result"
    }
   ],
   "source": [
    "c"
   ]
  },
  {
   "cell_type": "code",
   "execution_count": 75,
   "id": "bored-pacific",
   "metadata": {},
   "outputs": [
    {
     "data": {
      "text/plain": [
       "apple        True\n",
       "samsung     False\n",
       "amazon       True\n",
       "foxconn     False\n",
       "alphabet     True\n",
       "Name: state, dtype: bool"
      ]
     },
     "execution_count": 75,
     "metadata": {},
     "output_type": "execute_result"
    }
   ],
   "source": [
    "c['state'].notnull()"
   ]
  },
  {
   "cell_type": "code",
   "execution_count": 76,
   "id": "treated-printer",
   "metadata": {},
   "outputs": [
    {
     "data": {
      "text/plain": [
       "apple       False\n",
       "samsung      True\n",
       "amazon      False\n",
       "foxconn      True\n",
       "alphabet    False\n",
       "Name: state, dtype: bool"
      ]
     },
     "execution_count": 76,
     "metadata": {},
     "output_type": "execute_result"
    }
   ],
   "source": [
    "c['state'].isnull()"
   ]
  },
  {
   "cell_type": "code",
   "execution_count": 77,
   "id": "facial-telescope",
   "metadata": {},
   "outputs": [
    {
     "data": {
      "text/html": [
       "<div>\n",
       "<style scoped>\n",
       "    .dataframe tbody tr th:only-of-type {\n",
       "        vertical-align: middle;\n",
       "    }\n",
       "\n",
       "    .dataframe tbody tr th {\n",
       "        vertical-align: top;\n",
       "    }\n",
       "\n",
       "    .dataframe thead th {\n",
       "        text-align: right;\n",
       "    }\n",
       "</style>\n",
       "<table border=\"1\" class=\"dataframe\">\n",
       "  <thead>\n",
       "    <tr style=\"text-align: right;\">\n",
       "      <th></th>\n",
       "      <th>revenue</th>\n",
       "      <th>employees</th>\n",
       "      <th>location</th>\n",
       "      <th>state</th>\n",
       "    </tr>\n",
       "  </thead>\n",
       "  <tbody>\n",
       "    <tr>\n",
       "      <th>samsung</th>\n",
       "      <td>$211.9</td>\n",
       "      <td>320671</td>\n",
       "      <td>Suwon, South Korea</td>\n",
       "      <td>NaN</td>\n",
       "    </tr>\n",
       "    <tr>\n",
       "      <th>foxconn</th>\n",
       "      <td>$154.7</td>\n",
       "      <td>1300000</td>\n",
       "      <td>New Taipei City, Taiwan</td>\n",
       "      <td>NaN</td>\n",
       "    </tr>\n",
       "  </tbody>\n",
       "</table>\n",
       "</div>"
      ],
      "text/plain": [
       "        revenue  employees                 location state\n",
       "samsung  $211.9     320671       Suwon, South Korea   NaN\n",
       "foxconn  $154.7    1300000  New Taipei City, Taiwan   NaN"
      ]
     },
     "execution_count": 77,
     "metadata": {},
     "output_type": "execute_result"
    }
   ],
   "source": [
    "c[c['state'].isnull()]"
   ]
  },
  {
   "cell_type": "code",
   "execution_count": 78,
   "id": "through-reasoning",
   "metadata": {},
   "outputs": [
    {
     "data": {
      "text/html": [
       "<div>\n",
       "<style scoped>\n",
       "    .dataframe tbody tr th:only-of-type {\n",
       "        vertical-align: middle;\n",
       "    }\n",
       "\n",
       "    .dataframe tbody tr th {\n",
       "        vertical-align: top;\n",
       "    }\n",
       "\n",
       "    .dataframe thead th {\n",
       "        text-align: right;\n",
       "    }\n",
       "</style>\n",
       "<table border=\"1\" class=\"dataframe\">\n",
       "  <thead>\n",
       "    <tr style=\"text-align: right;\">\n",
       "      <th></th>\n",
       "      <th>revenue</th>\n",
       "      <th>employees</th>\n",
       "      <th>location</th>\n",
       "      <th>state</th>\n",
       "    </tr>\n",
       "  </thead>\n",
       "  <tbody>\n",
       "    <tr>\n",
       "      <th>apple</th>\n",
       "      <td>$229.2</td>\n",
       "      <td>123000</td>\n",
       "      <td>Cupertino, US</td>\n",
       "      <td>CA</td>\n",
       "    </tr>\n",
       "    <tr>\n",
       "      <th>amazon</th>\n",
       "      <td>$177.8</td>\n",
       "      <td>566000</td>\n",
       "      <td>Seattle, US</td>\n",
       "      <td>WA</td>\n",
       "    </tr>\n",
       "    <tr>\n",
       "      <th>alphabet</th>\n",
       "      <td>$110.8</td>\n",
       "      <td>80110</td>\n",
       "      <td>Mountain View, US</td>\n",
       "      <td>CA</td>\n",
       "    </tr>\n",
       "  </tbody>\n",
       "</table>\n",
       "</div>"
      ],
      "text/plain": [
       "         revenue  employees           location state\n",
       "apple     $229.2     123000      Cupertino, US    CA\n",
       "amazon    $177.8     566000        Seattle, US    WA\n",
       "alphabet  $110.8      80110  Mountain View, US    CA"
      ]
     },
     "execution_count": 78,
     "metadata": {},
     "output_type": "execute_result"
    }
   ],
   "source": [
    "c.dropna()"
   ]
  },
  {
   "cell_type": "code",
   "execution_count": 81,
   "id": "hungry-terrace",
   "metadata": {},
   "outputs": [
    {
     "data": {
      "text/html": [
       "<div>\n",
       "<style scoped>\n",
       "    .dataframe tbody tr th:only-of-type {\n",
       "        vertical-align: middle;\n",
       "    }\n",
       "\n",
       "    .dataframe tbody tr th {\n",
       "        vertical-align: top;\n",
       "    }\n",
       "\n",
       "    .dataframe thead th {\n",
       "        text-align: right;\n",
       "    }\n",
       "</style>\n",
       "<table border=\"1\" class=\"dataframe\">\n",
       "  <thead>\n",
       "    <tr style=\"text-align: right;\">\n",
       "      <th></th>\n",
       "      <th>revenue</th>\n",
       "      <th>employees</th>\n",
       "      <th>location</th>\n",
       "    </tr>\n",
       "  </thead>\n",
       "  <tbody>\n",
       "    <tr>\n",
       "      <th>apple</th>\n",
       "      <td>$229.2</td>\n",
       "      <td>123000</td>\n",
       "      <td>Cupertino, US</td>\n",
       "    </tr>\n",
       "    <tr>\n",
       "      <th>samsung</th>\n",
       "      <td>$211.9</td>\n",
       "      <td>320671</td>\n",
       "      <td>Suwon, South Korea</td>\n",
       "    </tr>\n",
       "    <tr>\n",
       "      <th>amazon</th>\n",
       "      <td>$177.8</td>\n",
       "      <td>566000</td>\n",
       "      <td>Seattle, US</td>\n",
       "    </tr>\n",
       "    <tr>\n",
       "      <th>foxconn</th>\n",
       "      <td>$154.7</td>\n",
       "      <td>1300000</td>\n",
       "      <td>New Taipei City, Taiwan</td>\n",
       "    </tr>\n",
       "    <tr>\n",
       "      <th>alphabet</th>\n",
       "      <td>$110.8</td>\n",
       "      <td>80110</td>\n",
       "      <td>Mountain View, US</td>\n",
       "    </tr>\n",
       "  </tbody>\n",
       "</table>\n",
       "</div>"
      ],
      "text/plain": [
       "         revenue  employees                 location\n",
       "apple     $229.2     123000            Cupertino, US\n",
       "samsung   $211.9     320671       Suwon, South Korea\n",
       "amazon    $177.8     566000              Seattle, US\n",
       "foxconn   $154.7    1300000  New Taipei City, Taiwan\n",
       "alphabet  $110.8      80110        Mountain View, US"
      ]
     },
     "execution_count": 81,
     "metadata": {},
     "output_type": "execute_result"
    }
   ],
   "source": [
    "c.dropna(axis=1)"
   ]
  },
  {
   "cell_type": "markdown",
   "id": "structured-recovery",
   "metadata": {},
   "source": [
    "## Vectorized String Methods"
   ]
  },
  {
   "cell_type": "code",
   "execution_count": 82,
   "id": "adjacent-display",
   "metadata": {},
   "outputs": [
    {
     "data": {
      "text/plain": [
       "apple                 CUPERTINO, US\n",
       "samsung          SUWON, SOUTH KOREA\n",
       "amazon                  SEATTLE, US\n",
       "foxconn     NEW TAIPEI CITY, TAIWAN\n",
       "alphabet          MOUNTAIN VIEW, US\n",
       "Name: location, dtype: object"
      ]
     },
     "execution_count": 82,
     "metadata": {},
     "output_type": "execute_result"
    }
   ],
   "source": [
    "c['location'].str.upper()"
   ]
  },
  {
   "cell_type": "code",
   "execution_count": 84,
   "id": "harmful-rates",
   "metadata": {},
   "outputs": [],
   "source": [
    "c['location']= c['location'].str.upper()"
   ]
  },
  {
   "cell_type": "code",
   "execution_count": 85,
   "id": "improving-trace",
   "metadata": {},
   "outputs": [
    {
     "data": {
      "text/html": [
       "<div>\n",
       "<style scoped>\n",
       "    .dataframe tbody tr th:only-of-type {\n",
       "        vertical-align: middle;\n",
       "    }\n",
       "\n",
       "    .dataframe tbody tr th {\n",
       "        vertical-align: top;\n",
       "    }\n",
       "\n",
       "    .dataframe thead th {\n",
       "        text-align: right;\n",
       "    }\n",
       "</style>\n",
       "<table border=\"1\" class=\"dataframe\">\n",
       "  <thead>\n",
       "    <tr style=\"text-align: right;\">\n",
       "      <th></th>\n",
       "      <th>revenue</th>\n",
       "      <th>employees</th>\n",
       "      <th>location</th>\n",
       "      <th>state</th>\n",
       "    </tr>\n",
       "  </thead>\n",
       "  <tbody>\n",
       "    <tr>\n",
       "      <th>apple</th>\n",
       "      <td>$229.2</td>\n",
       "      <td>123000</td>\n",
       "      <td>CUPERTINO, US</td>\n",
       "      <td>CA</td>\n",
       "    </tr>\n",
       "    <tr>\n",
       "      <th>samsung</th>\n",
       "      <td>$211.9</td>\n",
       "      <td>320671</td>\n",
       "      <td>SUWON, SOUTH KOREA</td>\n",
       "      <td>NaN</td>\n",
       "    </tr>\n",
       "    <tr>\n",
       "      <th>amazon</th>\n",
       "      <td>$177.8</td>\n",
       "      <td>566000</td>\n",
       "      <td>SEATTLE, US</td>\n",
       "      <td>WA</td>\n",
       "    </tr>\n",
       "    <tr>\n",
       "      <th>foxconn</th>\n",
       "      <td>$154.7</td>\n",
       "      <td>1300000</td>\n",
       "      <td>NEW TAIPEI CITY, TAIWAN</td>\n",
       "      <td>NaN</td>\n",
       "    </tr>\n",
       "    <tr>\n",
       "      <th>alphabet</th>\n",
       "      <td>$110.8</td>\n",
       "      <td>80110</td>\n",
       "      <td>MOUNTAIN VIEW, US</td>\n",
       "      <td>CA</td>\n",
       "    </tr>\n",
       "  </tbody>\n",
       "</table>\n",
       "</div>"
      ],
      "text/plain": [
       "         revenue  employees                 location state\n",
       "apple     $229.2     123000            CUPERTINO, US    CA\n",
       "samsung   $211.9     320671       SUWON, SOUTH KOREA   NaN\n",
       "amazon    $177.8     566000              SEATTLE, US    WA\n",
       "foxconn   $154.7    1300000  NEW TAIPEI CITY, TAIWAN   NaN\n",
       "alphabet  $110.8      80110        MOUNTAIN VIEW, US    CA"
      ]
     },
     "execution_count": 85,
     "metadata": {},
     "output_type": "execute_result"
    }
   ],
   "source": [
    "c"
   ]
  },
  {
   "cell_type": "code",
   "execution_count": 86,
   "id": "damaged-boutique",
   "metadata": {},
   "outputs": [
    {
     "data": {
      "text/plain": [
       "apple                 [CUPERTINO,  US]\n",
       "samsung          [SUWON,  SOUTH KOREA]\n",
       "amazon                  [SEATTLE,  US]\n",
       "foxconn     [NEW TAIPEI CITY,  TAIWAN]\n",
       "alphabet          [MOUNTAIN VIEW,  US]\n",
       "Name: location, dtype: object"
      ]
     },
     "execution_count": 86,
     "metadata": {},
     "output_type": "execute_result"
    }
   ],
   "source": [
    "c['location'].str.split(',')"
   ]
  },
  {
   "cell_type": "code",
   "execution_count": 87,
   "id": "growing-finland",
   "metadata": {},
   "outputs": [
    {
     "data": {
      "text/plain": [
       "apple                 US\n",
       "samsung      SOUTH KOREA\n",
       "amazon                US\n",
       "foxconn           TAIWAN\n",
       "alphabet              US\n",
       "Name: location, dtype: object"
      ]
     },
     "execution_count": 87,
     "metadata": {},
     "output_type": "execute_result"
    }
   ],
   "source": [
    "c['location'].str.split(',').str[-1]"
   ]
  },
  {
   "cell_type": "code",
   "execution_count": 88,
   "id": "connected-handle",
   "metadata": {},
   "outputs": [],
   "source": [
    "c['country'] = c['location'].str.split(',').str[-1]"
   ]
  },
  {
   "cell_type": "code",
   "execution_count": 89,
   "id": "illegal-celebrity",
   "metadata": {},
   "outputs": [
    {
     "data": {
      "text/html": [
       "<div>\n",
       "<style scoped>\n",
       "    .dataframe tbody tr th:only-of-type {\n",
       "        vertical-align: middle;\n",
       "    }\n",
       "\n",
       "    .dataframe tbody tr th {\n",
       "        vertical-align: top;\n",
       "    }\n",
       "\n",
       "    .dataframe thead th {\n",
       "        text-align: right;\n",
       "    }\n",
       "</style>\n",
       "<table border=\"1\" class=\"dataframe\">\n",
       "  <thead>\n",
       "    <tr style=\"text-align: right;\">\n",
       "      <th></th>\n",
       "      <th>revenue</th>\n",
       "      <th>employees</th>\n",
       "      <th>location</th>\n",
       "      <th>state</th>\n",
       "      <th>country</th>\n",
       "    </tr>\n",
       "  </thead>\n",
       "  <tbody>\n",
       "    <tr>\n",
       "      <th>apple</th>\n",
       "      <td>$229.2</td>\n",
       "      <td>123000</td>\n",
       "      <td>CUPERTINO, US</td>\n",
       "      <td>CA</td>\n",
       "      <td>US</td>\n",
       "    </tr>\n",
       "    <tr>\n",
       "      <th>samsung</th>\n",
       "      <td>$211.9</td>\n",
       "      <td>320671</td>\n",
       "      <td>SUWON, SOUTH KOREA</td>\n",
       "      <td>NaN</td>\n",
       "      <td>SOUTH KOREA</td>\n",
       "    </tr>\n",
       "    <tr>\n",
       "      <th>amazon</th>\n",
       "      <td>$177.8</td>\n",
       "      <td>566000</td>\n",
       "      <td>SEATTLE, US</td>\n",
       "      <td>WA</td>\n",
       "      <td>US</td>\n",
       "    </tr>\n",
       "    <tr>\n",
       "      <th>foxconn</th>\n",
       "      <td>$154.7</td>\n",
       "      <td>1300000</td>\n",
       "      <td>NEW TAIPEI CITY, TAIWAN</td>\n",
       "      <td>NaN</td>\n",
       "      <td>TAIWAN</td>\n",
       "    </tr>\n",
       "    <tr>\n",
       "      <th>alphabet</th>\n",
       "      <td>$110.8</td>\n",
       "      <td>80110</td>\n",
       "      <td>MOUNTAIN VIEW, US</td>\n",
       "      <td>CA</td>\n",
       "      <td>US</td>\n",
       "    </tr>\n",
       "  </tbody>\n",
       "</table>\n",
       "</div>"
      ],
      "text/plain": [
       "         revenue  employees                 location state       country\n",
       "apple     $229.2     123000            CUPERTINO, US    CA            US\n",
       "samsung   $211.9     320671       SUWON, SOUTH KOREA   NaN   SOUTH KOREA\n",
       "amazon    $177.8     566000              SEATTLE, US    WA            US\n",
       "foxconn   $154.7    1300000  NEW TAIPEI CITY, TAIWAN   NaN        TAIWAN\n",
       "alphabet  $110.8      80110        MOUNTAIN VIEW, US    CA            US"
      ]
     },
     "execution_count": 89,
     "metadata": {},
     "output_type": "execute_result"
    }
   ],
   "source": [
    "c"
   ]
  },
  {
   "cell_type": "markdown",
   "id": "direct-worth",
   "metadata": {},
   "source": [
    "## Reindexing"
   ]
  },
  {
   "cell_type": "code",
   "execution_count": 90,
   "id": "measured-edward",
   "metadata": {},
   "outputs": [
    {
     "data": {
      "text/html": [
       "<div>\n",
       "<style scoped>\n",
       "    .dataframe tbody tr th:only-of-type {\n",
       "        vertical-align: middle;\n",
       "    }\n",
       "\n",
       "    .dataframe tbody tr th {\n",
       "        vertical-align: top;\n",
       "    }\n",
       "\n",
       "    .dataframe thead th {\n",
       "        text-align: right;\n",
       "    }\n",
       "</style>\n",
       "<table border=\"1\" class=\"dataframe\">\n",
       "  <thead>\n",
       "    <tr style=\"text-align: right;\">\n",
       "      <th></th>\n",
       "      <th>revenue</th>\n",
       "      <th>employees</th>\n",
       "      <th>location</th>\n",
       "      <th>state</th>\n",
       "      <th>country</th>\n",
       "    </tr>\n",
       "  </thead>\n",
       "  <tbody>\n",
       "    <tr>\n",
       "      <th>samsung</th>\n",
       "      <td>$211.9</td>\n",
       "      <td>320671.0</td>\n",
       "      <td>SUWON, SOUTH KOREA</td>\n",
       "      <td>NaN</td>\n",
       "      <td>SOUTH KOREA</td>\n",
       "    </tr>\n",
       "    <tr>\n",
       "      <th>amazon</th>\n",
       "      <td>$177.8</td>\n",
       "      <td>566000.0</td>\n",
       "      <td>SEATTLE, US</td>\n",
       "      <td>WA</td>\n",
       "      <td>US</td>\n",
       "    </tr>\n",
       "    <tr>\n",
       "      <th>foxconn</th>\n",
       "      <td>$154.7</td>\n",
       "      <td>1300000.0</td>\n",
       "      <td>NEW TAIPEI CITY, TAIWAN</td>\n",
       "      <td>NaN</td>\n",
       "      <td>TAIWAN</td>\n",
       "    </tr>\n",
       "    <tr>\n",
       "      <th>alphabet</th>\n",
       "      <td>$110.8</td>\n",
       "      <td>80110.0</td>\n",
       "      <td>MOUNTAIN VIEW, US</td>\n",
       "      <td>CA</td>\n",
       "      <td>US</td>\n",
       "    </tr>\n",
       "    <tr>\n",
       "      <th>apple</th>\n",
       "      <td>$229.2</td>\n",
       "      <td>123000.0</td>\n",
       "      <td>CUPERTINO, US</td>\n",
       "      <td>CA</td>\n",
       "      <td>US</td>\n",
       "    </tr>\n",
       "    <tr>\n",
       "      <th>microsoft</th>\n",
       "      <td>NaN</td>\n",
       "      <td>NaN</td>\n",
       "      <td>NaN</td>\n",
       "      <td>NaN</td>\n",
       "      <td>NaN</td>\n",
       "    </tr>\n",
       "  </tbody>\n",
       "</table>\n",
       "</div>"
      ],
      "text/plain": [
       "          revenue  employees                 location state       country\n",
       "samsung    $211.9   320671.0       SUWON, SOUTH KOREA   NaN   SOUTH KOREA\n",
       "amazon     $177.8   566000.0              SEATTLE, US    WA            US\n",
       "foxconn    $154.7  1300000.0  NEW TAIPEI CITY, TAIWAN   NaN        TAIWAN\n",
       "alphabet   $110.8    80110.0        MOUNTAIN VIEW, US    CA            US\n",
       "apple      $229.2   123000.0            CUPERTINO, US    CA            US\n",
       "microsoft     NaN        NaN                      NaN   NaN           NaN"
      ]
     },
     "execution_count": 90,
     "metadata": {},
     "output_type": "execute_result"
    }
   ],
   "source": [
    "c.reindex(index=list(c.index[1:]) +['apple','microsoft'])"
   ]
  },
  {
   "cell_type": "markdown",
   "id": "judicial-venice",
   "metadata": {},
   "source": [
    "## Apply, Map"
   ]
  },
  {
   "cell_type": "markdown",
   "id": "subtle-farmer",
   "metadata": {},
   "source": [
    "* for dataframe you can use apply(entire row) or applymap(entire value )\n"
   ]
  },
  {
   "cell_type": "code",
   "execution_count": 91,
   "id": "formal-tuition",
   "metadata": {},
   "outputs": [],
   "source": [
    "import pandas as pd\n",
    "rain = pd.DataFrame([[3.50, 4.53, 4.13, 3.98],\n",
    "                     [7.91, 5.98, 6.10, 5.12],\n",
    "                     [3.94, 5.28, 3.90, 4.49],\n",
    "                     [1.42, 0.63, 0.75, 1.65]],\n",
    "    index=['New York', 'New Orleans', 'Atlanta', 'Seattle'],\n",
    "    columns=['Jun', 'Jul', 'Aug', 'Sept'])"
   ]
  },
  {
   "cell_type": "code",
   "execution_count": 92,
   "id": "secondary-responsibility",
   "metadata": {},
   "outputs": [
    {
     "data": {
      "text/html": [
       "<div>\n",
       "<style scoped>\n",
       "    .dataframe tbody tr th:only-of-type {\n",
       "        vertical-align: middle;\n",
       "    }\n",
       "\n",
       "    .dataframe tbody tr th {\n",
       "        vertical-align: top;\n",
       "    }\n",
       "\n",
       "    .dataframe thead th {\n",
       "        text-align: right;\n",
       "    }\n",
       "</style>\n",
       "<table border=\"1\" class=\"dataframe\">\n",
       "  <thead>\n",
       "    <tr style=\"text-align: right;\">\n",
       "      <th></th>\n",
       "      <th>Jun</th>\n",
       "      <th>Jul</th>\n",
       "      <th>Aug</th>\n",
       "      <th>Sept</th>\n",
       "    </tr>\n",
       "  </thead>\n",
       "  <tbody>\n",
       "    <tr>\n",
       "      <th>New York</th>\n",
       "      <td>3.50</td>\n",
       "      <td>4.53</td>\n",
       "      <td>4.13</td>\n",
       "      <td>3.98</td>\n",
       "    </tr>\n",
       "    <tr>\n",
       "      <th>New Orleans</th>\n",
       "      <td>7.91</td>\n",
       "      <td>5.98</td>\n",
       "      <td>6.10</td>\n",
       "      <td>5.12</td>\n",
       "    </tr>\n",
       "    <tr>\n",
       "      <th>Atlanta</th>\n",
       "      <td>3.94</td>\n",
       "      <td>5.28</td>\n",
       "      <td>3.90</td>\n",
       "      <td>4.49</td>\n",
       "    </tr>\n",
       "    <tr>\n",
       "      <th>Seattle</th>\n",
       "      <td>1.42</td>\n",
       "      <td>0.63</td>\n",
       "      <td>0.75</td>\n",
       "      <td>1.65</td>\n",
       "    </tr>\n",
       "  </tbody>\n",
       "</table>\n",
       "</div>"
      ],
      "text/plain": [
       "              Jun   Jul   Aug  Sept\n",
       "New York     3.50  4.53  4.13  3.98\n",
       "New Orleans  7.91  5.98  6.10  5.12\n",
       "Atlanta      3.94  5.28  3.90  4.49\n",
       "Seattle      1.42  0.63  0.75  1.65"
      ]
     },
     "execution_count": 92,
     "metadata": {},
     "output_type": "execute_result"
    }
   ],
   "source": [
    "rain"
   ]
  },
  {
   "cell_type": "code",
   "execution_count": 98,
   "id": "intimate-explanation",
   "metadata": {},
   "outputs": [
    {
     "data": {
      "text/plain": [
       "Jun     <class 'pandas.core.series.Series'>\n",
       "Jul     <class 'pandas.core.series.Series'>\n",
       "Aug     <class 'pandas.core.series.Series'>\n",
       "Sept    <class 'pandas.core.series.Series'>\n",
       "dtype: object"
      ]
     },
     "execution_count": 98,
     "metadata": {},
     "output_type": "execute_result"
    }
   ],
   "source": [
    "rain.apply(lambda arg: str(type(arg))) # take a function and single arg will be a Series"
   ]
  },
  {
   "cell_type": "code",
   "execution_count": 97,
   "id": "invisible-whole",
   "metadata": {},
   "outputs": [
    {
     "data": {
      "text/plain": [
       "Jun     16.77\n",
       "Jul     16.42\n",
       "Aug     14.88\n",
       "Sept    15.24\n",
       "dtype: float64"
      ]
     },
     "execution_count": 97,
     "metadata": {},
     "output_type": "execute_result"
    }
   ],
   "source": [
    "rain.apply(lambda month_data: sum(month_data))"
   ]
  },
  {
   "cell_type": "code",
   "execution_count": 99,
   "id": "official-sharp",
   "metadata": {},
   "outputs": [
    {
     "data": {
      "text/plain": [
       "Jun     16.77\n",
       "Jul     16.42\n",
       "Aug     14.88\n",
       "Sept    15.24\n",
       "dtype: float64"
      ]
     },
     "execution_count": 99,
     "metadata": {},
     "output_type": "execute_result"
    }
   ],
   "source": [
    "rain.apply(sum) #axis is zero ! If you want to do axis 1. sest axis \n"
   ]
  },
  {
   "cell_type": "code",
   "execution_count": 100,
   "id": "joined-contract",
   "metadata": {},
   "outputs": [
    {
     "data": {
      "text/plain": [
       "New York       16.14\n",
       "New Orleans    25.11\n",
       "Atlanta        17.61\n",
       "Seattle         4.45\n",
       "dtype: float64"
      ]
     },
     "execution_count": 100,
     "metadata": {},
     "output_type": "execute_result"
    }
   ],
   "source": [
    "rain.apply(sum,axis=1)"
   ]
  },
  {
   "cell_type": "code",
   "execution_count": 101,
   "id": "ambient-minute",
   "metadata": {},
   "outputs": [
    {
     "data": {
      "text/plain": [
       "Jun     4.1925\n",
       "Jul     4.1050\n",
       "Aug     3.7200\n",
       "Sept    3.8100\n",
       "dtype: float64"
      ]
     },
     "execution_count": 101,
     "metadata": {},
     "output_type": "execute_result"
    }
   ],
   "source": [
    "rain.mean()"
   ]
  },
  {
   "cell_type": "code",
   "execution_count": 103,
   "id": "alike-rapid",
   "metadata": {},
   "outputs": [
    {
     "data": {
      "text/html": [
       "<div>\n",
       "<style scoped>\n",
       "    .dataframe tbody tr th:only-of-type {\n",
       "        vertical-align: middle;\n",
       "    }\n",
       "\n",
       "    .dataframe tbody tr th {\n",
       "        vertical-align: top;\n",
       "    }\n",
       "\n",
       "    .dataframe thead th {\n",
       "        text-align: right;\n",
       "    }\n",
       "</style>\n",
       "<table border=\"1\" class=\"dataframe\">\n",
       "  <thead>\n",
       "    <tr style=\"text-align: right;\">\n",
       "      <th></th>\n",
       "      <th>0</th>\n",
       "      <th>1</th>\n",
       "      <th>2</th>\n",
       "      <th>3</th>\n",
       "    </tr>\n",
       "  </thead>\n",
       "  <tbody>\n",
       "    <tr>\n",
       "      <th>New York</th>\n",
       "      <td>3.50</td>\n",
       "      <td>3.98</td>\n",
       "      <td>4.13</td>\n",
       "      <td>4.53</td>\n",
       "    </tr>\n",
       "    <tr>\n",
       "      <th>New Orleans</th>\n",
       "      <td>5.12</td>\n",
       "      <td>5.98</td>\n",
       "      <td>6.10</td>\n",
       "      <td>7.91</td>\n",
       "    </tr>\n",
       "    <tr>\n",
       "      <th>Atlanta</th>\n",
       "      <td>3.90</td>\n",
       "      <td>3.94</td>\n",
       "      <td>4.49</td>\n",
       "      <td>5.28</td>\n",
       "    </tr>\n",
       "    <tr>\n",
       "      <th>Seattle</th>\n",
       "      <td>0.63</td>\n",
       "      <td>0.75</td>\n",
       "      <td>1.42</td>\n",
       "      <td>1.65</td>\n",
       "    </tr>\n",
       "  </tbody>\n",
       "</table>\n",
       "</div>"
      ],
      "text/plain": [
       "                0     1     2     3\n",
       "New York     3.50  3.98  4.13  4.53\n",
       "New Orleans  5.12  5.98  6.10  7.91\n",
       "Atlanta      3.90  3.94  4.49  5.28\n",
       "Seattle      0.63  0.75  1.42  1.65"
      ]
     },
     "execution_count": 103,
     "metadata": {},
     "output_type": "execute_result"
    }
   ],
   "source": [
    "rain.mode(axis=1)"
   ]
  },
  {
   "cell_type": "code",
   "execution_count": 105,
   "id": "rising-namibia",
   "metadata": {},
   "outputs": [
    {
     "data": {
      "text/plain": [
       "New York       1.03\n",
       "New Orleans    2.79\n",
       "Atlanta        1.38\n",
       "Seattle        1.02\n",
       "dtype: float64"
      ]
     },
     "execution_count": 105,
     "metadata": {},
     "output_type": "execute_result"
    }
   ],
   "source": [
    "rain.apply(lambda city_data: max(city_data)-min(city_data),axis=1)"
   ]
  },
  {
   "cell_type": "code",
   "execution_count": 107,
   "id": "julian-egyptian",
   "metadata": {},
   "outputs": [
    {
     "data": {
      "text/html": [
       "<div>\n",
       "<style scoped>\n",
       "    .dataframe tbody tr th:only-of-type {\n",
       "        vertical-align: middle;\n",
       "    }\n",
       "\n",
       "    .dataframe tbody tr th {\n",
       "        vertical-align: top;\n",
       "    }\n",
       "\n",
       "    .dataframe thead th {\n",
       "        text-align: right;\n",
       "    }\n",
       "</style>\n",
       "<table border=\"1\" class=\"dataframe\">\n",
       "  <thead>\n",
       "    <tr style=\"text-align: right;\">\n",
       "      <th></th>\n",
       "      <th>Jun</th>\n",
       "      <th>Jul</th>\n",
       "      <th>Aug</th>\n",
       "      <th>Sept</th>\n",
       "    </tr>\n",
       "  </thead>\n",
       "  <tbody>\n",
       "    <tr>\n",
       "      <th>New York</th>\n",
       "      <td>8.75 cm</td>\n",
       "      <td>11.33 cm</td>\n",
       "      <td>10.32 cm</td>\n",
       "      <td>9.95 cm</td>\n",
       "    </tr>\n",
       "    <tr>\n",
       "      <th>New Orleans</th>\n",
       "      <td>19.77 cm</td>\n",
       "      <td>14.95 cm</td>\n",
       "      <td>15.25 cm</td>\n",
       "      <td>12.80 cm</td>\n",
       "    </tr>\n",
       "    <tr>\n",
       "      <th>Atlanta</th>\n",
       "      <td>9.85 cm</td>\n",
       "      <td>13.20 cm</td>\n",
       "      <td>9.75 cm</td>\n",
       "      <td>11.23 cm</td>\n",
       "    </tr>\n",
       "    <tr>\n",
       "      <th>Seattle</th>\n",
       "      <td>3.55 cm</td>\n",
       "      <td>1.57 cm</td>\n",
       "      <td>1.88 cm</td>\n",
       "      <td>4.12 cm</td>\n",
       "    </tr>\n",
       "  </tbody>\n",
       "</table>\n",
       "</div>"
      ],
      "text/plain": [
       "                  Jun       Jul       Aug      Sept\n",
       "New York      8.75 cm  11.33 cm  10.32 cm   9.95 cm\n",
       "New Orleans  19.77 cm  14.95 cm  15.25 cm  12.80 cm\n",
       "Atlanta       9.85 cm  13.20 cm   9.75 cm  11.23 cm\n",
       "Seattle       3.55 cm   1.57 cm   1.88 cm   4.12 cm"
      ]
     },
     "execution_count": 107,
     "metadata": {},
     "output_type": "execute_result"
    }
   ],
   "source": [
    "rain.applymap(lambda ele: f'{2.5 *ele:.2f} cm') #take a function but this takes one element"
   ]
  },
  {
   "cell_type": "code",
   "execution_count": 109,
   "id": "competent-serbia",
   "metadata": {},
   "outputs": [
    {
     "data": {
      "text/plain": [
       "0    ants\n",
       "1    cats\n",
       "2    bats\n",
       "dtype: object"
      ]
     },
     "execution_count": 109,
     "metadata": {},
     "output_type": "execute_result"
    }
   ],
   "source": [
    "pd.Series(['ant', 'cat', 'bat']).map(lambda word: word + 's')"
   ]
  },
  {
   "cell_type": "code",
   "execution_count": 113,
   "id": "charged-crazy",
   "metadata": {},
   "outputs": [
    {
     "data": {
      "text/plain": [
       "0    ants\n",
       "1    cats\n",
       "2    bats\n",
       "dtype: object"
      ]
     },
     "execution_count": 113,
     "metadata": {},
     "output_type": "execute_result"
    }
   ],
   "source": [
    "def f(s):\n",
    "    return s+'s'\n",
    "pd.Series(['ant', 'cat', 'bat']).map(f)"
   ]
  },
  {
   "cell_type": "markdown",
   "id": "grave-headline",
   "metadata": {},
   "source": [
    "## Sorting "
   ]
  },
  {
   "cell_type": "code",
   "execution_count": 114,
   "id": "through-honor",
   "metadata": {},
   "outputs": [
    {
     "data": {
      "text/html": [
       "<div>\n",
       "<style scoped>\n",
       "    .dataframe tbody tr th:only-of-type {\n",
       "        vertical-align: middle;\n",
       "    }\n",
       "\n",
       "    .dataframe tbody tr th {\n",
       "        vertical-align: top;\n",
       "    }\n",
       "\n",
       "    .dataframe thead th {\n",
       "        text-align: right;\n",
       "    }\n",
       "</style>\n",
       "<table border=\"1\" class=\"dataframe\">\n",
       "  <thead>\n",
       "    <tr style=\"text-align: right;\">\n",
       "      <th></th>\n",
       "      <th>revenue</th>\n",
       "      <th>employees</th>\n",
       "      <th>location</th>\n",
       "      <th>state</th>\n",
       "      <th>country</th>\n",
       "    </tr>\n",
       "  </thead>\n",
       "  <tbody>\n",
       "    <tr>\n",
       "      <th>alphabet</th>\n",
       "      <td>$110.8</td>\n",
       "      <td>80110</td>\n",
       "      <td>MOUNTAIN VIEW, US</td>\n",
       "      <td>CA</td>\n",
       "      <td>US</td>\n",
       "    </tr>\n",
       "    <tr>\n",
       "      <th>amazon</th>\n",
       "      <td>$177.8</td>\n",
       "      <td>566000</td>\n",
       "      <td>SEATTLE, US</td>\n",
       "      <td>WA</td>\n",
       "      <td>US</td>\n",
       "    </tr>\n",
       "    <tr>\n",
       "      <th>apple</th>\n",
       "      <td>$229.2</td>\n",
       "      <td>123000</td>\n",
       "      <td>CUPERTINO, US</td>\n",
       "      <td>CA</td>\n",
       "      <td>US</td>\n",
       "    </tr>\n",
       "    <tr>\n",
       "      <th>foxconn</th>\n",
       "      <td>$154.7</td>\n",
       "      <td>1300000</td>\n",
       "      <td>NEW TAIPEI CITY, TAIWAN</td>\n",
       "      <td>NaN</td>\n",
       "      <td>TAIWAN</td>\n",
       "    </tr>\n",
       "    <tr>\n",
       "      <th>samsung</th>\n",
       "      <td>$211.9</td>\n",
       "      <td>320671</td>\n",
       "      <td>SUWON, SOUTH KOREA</td>\n",
       "      <td>NaN</td>\n",
       "      <td>SOUTH KOREA</td>\n",
       "    </tr>\n",
       "  </tbody>\n",
       "</table>\n",
       "</div>"
      ],
      "text/plain": [
       "         revenue  employees                 location state       country\n",
       "alphabet  $110.8      80110        MOUNTAIN VIEW, US    CA            US\n",
       "amazon    $177.8     566000              SEATTLE, US    WA            US\n",
       "apple     $229.2     123000            CUPERTINO, US    CA            US\n",
       "foxconn   $154.7    1300000  NEW TAIPEI CITY, TAIWAN   NaN        TAIWAN\n",
       "samsung   $211.9     320671       SUWON, SOUTH KOREA   NaN   SOUTH KOREA"
      ]
     },
     "execution_count": 114,
     "metadata": {},
     "output_type": "execute_result"
    }
   ],
   "source": [
    "c.sort_index() #alphabetical order "
   ]
  },
  {
   "cell_type": "code",
   "execution_count": 116,
   "id": "hispanic-desperate",
   "metadata": {},
   "outputs": [
    {
     "data": {
      "text/html": [
       "<div>\n",
       "<style scoped>\n",
       "    .dataframe tbody tr th:only-of-type {\n",
       "        vertical-align: middle;\n",
       "    }\n",
       "\n",
       "    .dataframe tbody tr th {\n",
       "        vertical-align: top;\n",
       "    }\n",
       "\n",
       "    .dataframe thead th {\n",
       "        text-align: right;\n",
       "    }\n",
       "</style>\n",
       "<table border=\"1\" class=\"dataframe\">\n",
       "  <thead>\n",
       "    <tr style=\"text-align: right;\">\n",
       "      <th></th>\n",
       "      <th>revenue</th>\n",
       "      <th>employees</th>\n",
       "      <th>location</th>\n",
       "      <th>state</th>\n",
       "      <th>country</th>\n",
       "    </tr>\n",
       "  </thead>\n",
       "  <tbody>\n",
       "    <tr>\n",
       "      <th>alphabet</th>\n",
       "      <td>$110.8</td>\n",
       "      <td>80110</td>\n",
       "      <td>MOUNTAIN VIEW, US</td>\n",
       "      <td>CA</td>\n",
       "      <td>US</td>\n",
       "    </tr>\n",
       "    <tr>\n",
       "      <th>apple</th>\n",
       "      <td>$229.2</td>\n",
       "      <td>123000</td>\n",
       "      <td>CUPERTINO, US</td>\n",
       "      <td>CA</td>\n",
       "      <td>US</td>\n",
       "    </tr>\n",
       "    <tr>\n",
       "      <th>samsung</th>\n",
       "      <td>$211.9</td>\n",
       "      <td>320671</td>\n",
       "      <td>SUWON, SOUTH KOREA</td>\n",
       "      <td>NaN</td>\n",
       "      <td>SOUTH KOREA</td>\n",
       "    </tr>\n",
       "    <tr>\n",
       "      <th>amazon</th>\n",
       "      <td>$177.8</td>\n",
       "      <td>566000</td>\n",
       "      <td>SEATTLE, US</td>\n",
       "      <td>WA</td>\n",
       "      <td>US</td>\n",
       "    </tr>\n",
       "    <tr>\n",
       "      <th>foxconn</th>\n",
       "      <td>$154.7</td>\n",
       "      <td>1300000</td>\n",
       "      <td>NEW TAIPEI CITY, TAIWAN</td>\n",
       "      <td>NaN</td>\n",
       "      <td>TAIWAN</td>\n",
       "    </tr>\n",
       "  </tbody>\n",
       "</table>\n",
       "</div>"
      ],
      "text/plain": [
       "         revenue  employees                 location state       country\n",
       "alphabet  $110.8      80110        MOUNTAIN VIEW, US    CA            US\n",
       "apple     $229.2     123000            CUPERTINO, US    CA            US\n",
       "samsung   $211.9     320671       SUWON, SOUTH KOREA   NaN   SOUTH KOREA\n",
       "amazon    $177.8     566000              SEATTLE, US    WA            US\n",
       "foxconn   $154.7    1300000  NEW TAIPEI CITY, TAIWAN   NaN        TAIWAN"
      ]
     },
     "execution_count": 116,
     "metadata": {},
     "output_type": "execute_result"
    }
   ],
   "source": [
    "# sort by values\n",
    "c.sort_values(by='employees')"
   ]
  },
  {
   "cell_type": "code",
   "execution_count": 118,
   "id": "grand-karen",
   "metadata": {},
   "outputs": [
    {
     "data": {
      "text/html": [
       "<div>\n",
       "<style scoped>\n",
       "    .dataframe tbody tr th:only-of-type {\n",
       "        vertical-align: middle;\n",
       "    }\n",
       "\n",
       "    .dataframe tbody tr th {\n",
       "        vertical-align: top;\n",
       "    }\n",
       "\n",
       "    .dataframe thead th {\n",
       "        text-align: right;\n",
       "    }\n",
       "</style>\n",
       "<table border=\"1\" class=\"dataframe\">\n",
       "  <thead>\n",
       "    <tr style=\"text-align: right;\">\n",
       "      <th></th>\n",
       "      <th>revenue</th>\n",
       "      <th>employees</th>\n",
       "      <th>location</th>\n",
       "      <th>state</th>\n",
       "      <th>country</th>\n",
       "    </tr>\n",
       "  </thead>\n",
       "  <tbody>\n",
       "    <tr>\n",
       "      <th>foxconn</th>\n",
       "      <td>$154.7</td>\n",
       "      <td>1300000</td>\n",
       "      <td>NEW TAIPEI CITY, TAIWAN</td>\n",
       "      <td>NaN</td>\n",
       "      <td>TAIWAN</td>\n",
       "    </tr>\n",
       "    <tr>\n",
       "      <th>amazon</th>\n",
       "      <td>$177.8</td>\n",
       "      <td>566000</td>\n",
       "      <td>SEATTLE, US</td>\n",
       "      <td>WA</td>\n",
       "      <td>US</td>\n",
       "    </tr>\n",
       "    <tr>\n",
       "      <th>samsung</th>\n",
       "      <td>$211.9</td>\n",
       "      <td>320671</td>\n",
       "      <td>SUWON, SOUTH KOREA</td>\n",
       "      <td>NaN</td>\n",
       "      <td>SOUTH KOREA</td>\n",
       "    </tr>\n",
       "    <tr>\n",
       "      <th>apple</th>\n",
       "      <td>$229.2</td>\n",
       "      <td>123000</td>\n",
       "      <td>CUPERTINO, US</td>\n",
       "      <td>CA</td>\n",
       "      <td>US</td>\n",
       "    </tr>\n",
       "    <tr>\n",
       "      <th>alphabet</th>\n",
       "      <td>$110.8</td>\n",
       "      <td>80110</td>\n",
       "      <td>MOUNTAIN VIEW, US</td>\n",
       "      <td>CA</td>\n",
       "      <td>US</td>\n",
       "    </tr>\n",
       "  </tbody>\n",
       "</table>\n",
       "</div>"
      ],
      "text/plain": [
       "         revenue  employees                 location state       country\n",
       "foxconn   $154.7    1300000  NEW TAIPEI CITY, TAIWAN   NaN        TAIWAN\n",
       "amazon    $177.8     566000              SEATTLE, US    WA            US\n",
       "samsung   $211.9     320671       SUWON, SOUTH KOREA   NaN   SOUTH KOREA\n",
       "apple     $229.2     123000            CUPERTINO, US    CA            US\n",
       "alphabet  $110.8      80110        MOUNTAIN VIEW, US    CA            US"
      ]
     },
     "execution_count": 118,
     "metadata": {},
     "output_type": "execute_result"
    }
   ],
   "source": [
    "c.sort_values(by='employees',ascending=False)"
   ]
  },
  {
   "cell_type": "code",
   "execution_count": 119,
   "id": "selective-precipitation",
   "metadata": {},
   "outputs": [
    {
     "data": {
      "text/html": [
       "<div>\n",
       "<style scoped>\n",
       "    .dataframe tbody tr th:only-of-type {\n",
       "        vertical-align: middle;\n",
       "    }\n",
       "\n",
       "    .dataframe tbody tr th {\n",
       "        vertical-align: top;\n",
       "    }\n",
       "\n",
       "    .dataframe thead th {\n",
       "        text-align: right;\n",
       "    }\n",
       "</style>\n",
       "<table border=\"1\" class=\"dataframe\">\n",
       "  <thead>\n",
       "    <tr style=\"text-align: right;\">\n",
       "      <th></th>\n",
       "      <th>Jun</th>\n",
       "      <th>Jul</th>\n",
       "      <th>Aug</th>\n",
       "      <th>Sept</th>\n",
       "    </tr>\n",
       "  </thead>\n",
       "  <tbody>\n",
       "    <tr>\n",
       "      <th>New York</th>\n",
       "      <td>3.50</td>\n",
       "      <td>4.53</td>\n",
       "      <td>4.13</td>\n",
       "      <td>3.98</td>\n",
       "    </tr>\n",
       "    <tr>\n",
       "      <th>New Orleans</th>\n",
       "      <td>7.91</td>\n",
       "      <td>5.98</td>\n",
       "      <td>6.10</td>\n",
       "      <td>5.12</td>\n",
       "    </tr>\n",
       "    <tr>\n",
       "      <th>Atlanta</th>\n",
       "      <td>3.94</td>\n",
       "      <td>5.28</td>\n",
       "      <td>3.90</td>\n",
       "      <td>4.49</td>\n",
       "    </tr>\n",
       "    <tr>\n",
       "      <th>Seattle</th>\n",
       "      <td>1.42</td>\n",
       "      <td>0.63</td>\n",
       "      <td>0.75</td>\n",
       "      <td>1.65</td>\n",
       "    </tr>\n",
       "  </tbody>\n",
       "</table>\n",
       "</div>"
      ],
      "text/plain": [
       "              Jun   Jul   Aug  Sept\n",
       "New York     3.50  4.53  4.13  3.98\n",
       "New Orleans  7.91  5.98  6.10  5.12\n",
       "Atlanta      3.94  5.28  3.90  4.49\n",
       "Seattle      1.42  0.63  0.75  1.65"
      ]
     },
     "execution_count": 119,
     "metadata": {},
     "output_type": "execute_result"
    }
   ],
   "source": [
    "rain"
   ]
  },
  {
   "cell_type": "code",
   "execution_count": null,
   "id": "incident-auction",
   "metadata": {},
   "outputs": [],
   "source": []
  },
  {
   "cell_type": "code",
   "execution_count": 120,
   "id": "disabled-given",
   "metadata": {},
   "outputs": [
    {
     "data": {
      "text/html": [
       "<div>\n",
       "<style scoped>\n",
       "    .dataframe tbody tr th:only-of-type {\n",
       "        vertical-align: middle;\n",
       "    }\n",
       "\n",
       "    .dataframe tbody tr th {\n",
       "        vertical-align: top;\n",
       "    }\n",
       "\n",
       "    .dataframe thead th {\n",
       "        text-align: right;\n",
       "    }\n",
       "</style>\n",
       "<table border=\"1\" class=\"dataframe\">\n",
       "  <thead>\n",
       "    <tr style=\"text-align: right;\">\n",
       "      <th></th>\n",
       "      <th>Jun</th>\n",
       "      <th>Jul</th>\n",
       "      <th>Aug</th>\n",
       "      <th>Sept</th>\n",
       "    </tr>\n",
       "  </thead>\n",
       "  <tbody>\n",
       "    <tr>\n",
       "      <th>count</th>\n",
       "      <td>4.000000</td>\n",
       "      <td>4.000000</td>\n",
       "      <td>4.000000</td>\n",
       "      <td>4.000000</td>\n",
       "    </tr>\n",
       "    <tr>\n",
       "      <th>mean</th>\n",
       "      <td>4.192500</td>\n",
       "      <td>4.105000</td>\n",
       "      <td>3.720000</td>\n",
       "      <td>3.810000</td>\n",
       "    </tr>\n",
       "    <tr>\n",
       "      <th>std</th>\n",
       "      <td>2.711081</td>\n",
       "      <td>2.391129</td>\n",
       "      <td>2.212525</td>\n",
       "      <td>1.513605</td>\n",
       "    </tr>\n",
       "    <tr>\n",
       "      <th>min</th>\n",
       "      <td>1.420000</td>\n",
       "      <td>0.630000</td>\n",
       "      <td>0.750000</td>\n",
       "      <td>1.650000</td>\n",
       "    </tr>\n",
       "    <tr>\n",
       "      <th>25%</th>\n",
       "      <td>2.980000</td>\n",
       "      <td>3.555000</td>\n",
       "      <td>3.112500</td>\n",
       "      <td>3.397500</td>\n",
       "    </tr>\n",
       "    <tr>\n",
       "      <th>50%</th>\n",
       "      <td>3.720000</td>\n",
       "      <td>4.905000</td>\n",
       "      <td>4.015000</td>\n",
       "      <td>4.235000</td>\n",
       "    </tr>\n",
       "    <tr>\n",
       "      <th>75%</th>\n",
       "      <td>4.932500</td>\n",
       "      <td>5.455000</td>\n",
       "      <td>4.622500</td>\n",
       "      <td>4.647500</td>\n",
       "    </tr>\n",
       "    <tr>\n",
       "      <th>max</th>\n",
       "      <td>7.910000</td>\n",
       "      <td>5.980000</td>\n",
       "      <td>6.100000</td>\n",
       "      <td>5.120000</td>\n",
       "    </tr>\n",
       "  </tbody>\n",
       "</table>\n",
       "</div>"
      ],
      "text/plain": [
       "            Jun       Jul       Aug      Sept\n",
       "count  4.000000  4.000000  4.000000  4.000000\n",
       "mean   4.192500  4.105000  3.720000  3.810000\n",
       "std    2.711081  2.391129  2.212525  1.513605\n",
       "min    1.420000  0.630000  0.750000  1.650000\n",
       "25%    2.980000  3.555000  3.112500  3.397500\n",
       "50%    3.720000  4.905000  4.015000  4.235000\n",
       "75%    4.932500  5.455000  4.622500  4.647500\n",
       "max    7.910000  5.980000  6.100000  5.120000"
      ]
     },
     "execution_count": 120,
     "metadata": {},
     "output_type": "execute_result"
    }
   ],
   "source": [
    "rain.describe()"
   ]
  },
  {
   "cell_type": "code",
   "execution_count": 121,
   "id": "advisory-accommodation",
   "metadata": {},
   "outputs": [
    {
     "data": {
      "text/plain": [
       "array([' US', ' SOUTH KOREA', ' TAIWAN'], dtype=object)"
      ]
     },
     "execution_count": 121,
     "metadata": {},
     "output_type": "execute_result"
    }
   ],
   "source": [
    "c['country'].unique()"
   ]
  },
  {
   "cell_type": "code",
   "execution_count": 123,
   "id": "champion-ivory",
   "metadata": {},
   "outputs": [
    {
     "data": {
      "text/plain": [
       " US             3\n",
       " SOUTH KOREA    1\n",
       " TAIWAN         1\n",
       "Name: country, dtype: int64"
      ]
     },
     "execution_count": 123,
     "metadata": {},
     "output_type": "execute_result"
    }
   ],
   "source": [
    "c['country'].value_counts()"
   ]
  },
  {
   "cell_type": "code",
   "execution_count": 125,
   "id": "tribal-experience",
   "metadata": {},
   "outputs": [
    {
     "name": "stdout",
     "output_type": "stream",
     "text": [
      "<class 'pandas.core.frame.DataFrame'>\n",
      "RangeIndex: 10280 entries, 0 to 10279\n",
      "Data columns (total 9 columns):\n",
      " #   Column      Non-Null Count  Dtype \n",
      "---  ------      --------------  ----- \n",
      " 0   UniqueID    10280 non-null  int64 \n",
      " 1   DateOfBite  10280 non-null  object\n",
      " 2   Species     10280 non-null  object\n",
      " 3   Breed       8692 non-null   object\n",
      " 4   Age         5534 non-null   object\n",
      " 5   Gender      10280 non-null  object\n",
      " 6   SpayNeuter  10280 non-null  bool  \n",
      " 7   Borough     10280 non-null  object\n",
      " 8   ZipCode     7613 non-null   object\n",
      "dtypes: bool(1), int64(1), object(7)\n",
      "memory usage: 652.7+ KB\n"
     ]
    }
   ],
   "source": [
    "data.info()"
   ]
  },
  {
   "cell_type": "code",
   "execution_count": 126,
   "id": "standing-murray",
   "metadata": {},
   "outputs": [
    {
     "data": {
      "text/html": [
       "<div>\n",
       "<style scoped>\n",
       "    .dataframe tbody tr th:only-of-type {\n",
       "        vertical-align: middle;\n",
       "    }\n",
       "\n",
       "    .dataframe tbody tr th {\n",
       "        vertical-align: top;\n",
       "    }\n",
       "\n",
       "    .dataframe thead th {\n",
       "        text-align: right;\n",
       "    }\n",
       "</style>\n",
       "<table border=\"1\" class=\"dataframe\">\n",
       "  <thead>\n",
       "    <tr style=\"text-align: right;\">\n",
       "      <th></th>\n",
       "      <th>UniqueID</th>\n",
       "    </tr>\n",
       "  </thead>\n",
       "  <tbody>\n",
       "    <tr>\n",
       "      <th>count</th>\n",
       "      <td>10280.000000</td>\n",
       "    </tr>\n",
       "    <tr>\n",
       "      <th>mean</th>\n",
       "      <td>5140.500000</td>\n",
       "    </tr>\n",
       "    <tr>\n",
       "      <th>std</th>\n",
       "      <td>2967.724718</td>\n",
       "    </tr>\n",
       "    <tr>\n",
       "      <th>min</th>\n",
       "      <td>1.000000</td>\n",
       "    </tr>\n",
       "    <tr>\n",
       "      <th>25%</th>\n",
       "      <td>2570.750000</td>\n",
       "    </tr>\n",
       "    <tr>\n",
       "      <th>50%</th>\n",
       "      <td>5140.500000</td>\n",
       "    </tr>\n",
       "    <tr>\n",
       "      <th>75%</th>\n",
       "      <td>7710.250000</td>\n",
       "    </tr>\n",
       "    <tr>\n",
       "      <th>max</th>\n",
       "      <td>10280.000000</td>\n",
       "    </tr>\n",
       "  </tbody>\n",
       "</table>\n",
       "</div>"
      ],
      "text/plain": [
       "           UniqueID\n",
       "count  10280.000000\n",
       "mean    5140.500000\n",
       "std     2967.724718\n",
       "min        1.000000\n",
       "25%     2570.750000\n",
       "50%     5140.500000\n",
       "75%     7710.250000\n",
       "max    10280.000000"
      ]
     },
     "execution_count": 126,
     "metadata": {},
     "output_type": "execute_result"
    }
   ],
   "source": [
    "data.describe() #only for numeric cols , ignore missing data"
   ]
  },
  {
   "cell_type": "markdown",
   "id": "stylish-tournament",
   "metadata": {},
   "source": [
    "## Importing data "
   ]
  },
  {
   "cell_type": "code",
   "execution_count": 127,
   "id": "presidential-peter",
   "metadata": {},
   "outputs": [
    {
     "data": {
      "text/html": [
       "<div>\n",
       "<style scoped>\n",
       "    .dataframe tbody tr th:only-of-type {\n",
       "        vertical-align: middle;\n",
       "    }\n",
       "\n",
       "    .dataframe tbody tr th {\n",
       "        vertical-align: top;\n",
       "    }\n",
       "\n",
       "    .dataframe thead th {\n",
       "        text-align: right;\n",
       "    }\n",
       "</style>\n",
       "<table border=\"1\" class=\"dataframe\">\n",
       "  <thead>\n",
       "    <tr style=\"text-align: right;\">\n",
       "      <th></th>\n",
       "      <th>UniqueID</th>\n",
       "      <th>DateOfBite</th>\n",
       "      <th>Species</th>\n",
       "      <th>Breed</th>\n",
       "      <th>Age</th>\n",
       "      <th>Gender</th>\n",
       "      <th>SpayNeuter</th>\n",
       "      <th>Borough</th>\n",
       "      <th>ZipCode</th>\n",
       "    </tr>\n",
       "  </thead>\n",
       "  <tbody>\n",
       "    <tr>\n",
       "      <th>0</th>\n",
       "      <td>1</td>\n",
       "      <td>January 02 2015</td>\n",
       "      <td>DOG</td>\n",
       "      <td>Poodle, Standard</td>\n",
       "      <td>3</td>\n",
       "      <td>M</td>\n",
       "      <td>True</td>\n",
       "      <td>Brooklyn</td>\n",
       "      <td>11238</td>\n",
       "    </tr>\n",
       "    <tr>\n",
       "      <th>1</th>\n",
       "      <td>2</td>\n",
       "      <td>January 02 2015</td>\n",
       "      <td>DOG</td>\n",
       "      <td>HUSKY</td>\n",
       "      <td>NaN</td>\n",
       "      <td>U</td>\n",
       "      <td>False</td>\n",
       "      <td>Brooklyn</td>\n",
       "      <td>11249</td>\n",
       "    </tr>\n",
       "    <tr>\n",
       "      <th>2</th>\n",
       "      <td>3</td>\n",
       "      <td>January 02 2015</td>\n",
       "      <td>DOG</td>\n",
       "      <td>NaN</td>\n",
       "      <td>NaN</td>\n",
       "      <td>U</td>\n",
       "      <td>False</td>\n",
       "      <td>Brooklyn</td>\n",
       "      <td>NaN</td>\n",
       "    </tr>\n",
       "    <tr>\n",
       "      <th>3</th>\n",
       "      <td>4</td>\n",
       "      <td>January 01 2015</td>\n",
       "      <td>DOG</td>\n",
       "      <td>American Pit Bull Terrier/Pit Bull</td>\n",
       "      <td>6</td>\n",
       "      <td>M</td>\n",
       "      <td>False</td>\n",
       "      <td>Brooklyn</td>\n",
       "      <td>11221</td>\n",
       "    </tr>\n",
       "    <tr>\n",
       "      <th>4</th>\n",
       "      <td>5</td>\n",
       "      <td>January 03 2015</td>\n",
       "      <td>DOG</td>\n",
       "      <td>American Pit Bull Terrier/Pit Bull</td>\n",
       "      <td>1</td>\n",
       "      <td>M</td>\n",
       "      <td>False</td>\n",
       "      <td>Brooklyn</td>\n",
       "      <td>11207</td>\n",
       "    </tr>\n",
       "    <tr>\n",
       "      <th>...</th>\n",
       "      <td>...</td>\n",
       "      <td>...</td>\n",
       "      <td>...</td>\n",
       "      <td>...</td>\n",
       "      <td>...</td>\n",
       "      <td>...</td>\n",
       "      <td>...</td>\n",
       "      <td>...</td>\n",
       "      <td>...</td>\n",
       "    </tr>\n",
       "    <tr>\n",
       "      <th>10275</th>\n",
       "      <td>10276</td>\n",
       "      <td>December 24 2017</td>\n",
       "      <td>DOG</td>\n",
       "      <td>CHIWEENIE MIX</td>\n",
       "      <td>7</td>\n",
       "      <td>M</td>\n",
       "      <td>True</td>\n",
       "      <td>Staten Island</td>\n",
       "      <td>10303</td>\n",
       "    </tr>\n",
       "    <tr>\n",
       "      <th>10276</th>\n",
       "      <td>10277</td>\n",
       "      <td>December 24 2017</td>\n",
       "      <td>DOG</td>\n",
       "      <td>DUNKER</td>\n",
       "      <td>5</td>\n",
       "      <td>F</td>\n",
       "      <td>True</td>\n",
       "      <td>Staten Island</td>\n",
       "      <td>10303</td>\n",
       "    </tr>\n",
       "    <tr>\n",
       "      <th>10277</th>\n",
       "      <td>10278</td>\n",
       "      <td>December 21 2017</td>\n",
       "      <td>DOG</td>\n",
       "      <td>Schnauzer, Miniature</td>\n",
       "      <td>10M</td>\n",
       "      <td>M</td>\n",
       "      <td>True</td>\n",
       "      <td>Staten Island</td>\n",
       "      <td>10312</td>\n",
       "    </tr>\n",
       "    <tr>\n",
       "      <th>10278</th>\n",
       "      <td>10279</td>\n",
       "      <td>December 28 2017</td>\n",
       "      <td>DOG</td>\n",
       "      <td>Mixed/Other</td>\n",
       "      <td>NaN</td>\n",
       "      <td>F</td>\n",
       "      <td>False</td>\n",
       "      <td>Staten Island</td>\n",
       "      <td>10308</td>\n",
       "    </tr>\n",
       "    <tr>\n",
       "      <th>10279</th>\n",
       "      <td>10280</td>\n",
       "      <td>December 29 2017</td>\n",
       "      <td>DOG</td>\n",
       "      <td>BOXER/PIT BULL</td>\n",
       "      <td>NaN</td>\n",
       "      <td>M</td>\n",
       "      <td>False</td>\n",
       "      <td>Staten Island</td>\n",
       "      <td>10314</td>\n",
       "    </tr>\n",
       "  </tbody>\n",
       "</table>\n",
       "<p>10280 rows × 9 columns</p>\n",
       "</div>"
      ],
      "text/plain": [
       "       UniqueID        DateOfBite Species                               Breed  \\\n",
       "0             1   January 02 2015     DOG                    Poodle, Standard   \n",
       "1             2   January 02 2015     DOG                               HUSKY   \n",
       "2             3   January 02 2015     DOG                                 NaN   \n",
       "3             4   January 01 2015     DOG  American Pit Bull Terrier/Pit Bull   \n",
       "4             5   January 03 2015     DOG  American Pit Bull Terrier/Pit Bull   \n",
       "...         ...               ...     ...                                 ...   \n",
       "10275     10276  December 24 2017     DOG                       CHIWEENIE MIX   \n",
       "10276     10277  December 24 2017     DOG                              DUNKER   \n",
       "10277     10278  December 21 2017     DOG                Schnauzer, Miniature   \n",
       "10278     10279  December 28 2017     DOG                         Mixed/Other   \n",
       "10279     10280  December 29 2017     DOG                      BOXER/PIT BULL   \n",
       "\n",
       "       Age Gender  SpayNeuter        Borough ZipCode  \n",
       "0        3      M        True       Brooklyn   11238  \n",
       "1      NaN      U       False       Brooklyn   11249  \n",
       "2      NaN      U       False       Brooklyn     NaN  \n",
       "3        6      M       False       Brooklyn   11221  \n",
       "4        1      M       False       Brooklyn   11207  \n",
       "...    ...    ...         ...            ...     ...  \n",
       "10275    7      M        True  Staten Island   10303  \n",
       "10276    5      F        True  Staten Island   10303  \n",
       "10277  10M      M        True  Staten Island   10312  \n",
       "10278  NaN      F       False  Staten Island   10308  \n",
       "10279  NaN      M       False  Staten Island   10314  \n",
       "\n",
       "[10280 rows x 9 columns]"
      ]
     },
     "execution_count": 127,
     "metadata": {},
     "output_type": "execute_result"
    }
   ],
   "source": [
    "pd.read_csv('DOHMH_Dog_Bite_Data.csv')"
   ]
  },
  {
   "cell_type": "markdown",
   "id": "capable-omaha",
   "metadata": {},
   "source": [
    "### cleaning data through as type\n",
    "* pd.to_numeric <-- ignore errors\n",
    "* pd.to_datetime <-- specifing the format ex. %y-%m-%d"
   ]
  }
 ],
 "metadata": {
  "kernelspec": {
   "display_name": "Python 3",
   "language": "python",
   "name": "python3"
  },
  "language_info": {
   "codemirror_mode": {
    "name": "ipython",
    "version": 3
   },
   "file_extension": ".py",
   "mimetype": "text/x-python",
   "name": "python",
   "nbconvert_exporter": "python",
   "pygments_lexer": "ipython3",
   "version": "3.8.3"
  }
 },
 "nbformat": 4,
 "nbformat_minor": 5
}
